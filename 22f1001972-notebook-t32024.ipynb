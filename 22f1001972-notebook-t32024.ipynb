{
 "cells": [
  {
   "cell_type": "markdown",
   "id": "7228ae8a",
   "metadata": {
    "execution": {
     "iopub.execute_input": "2024-10-15T10:38:28.580883Z",
     "iopub.status.busy": "2024-10-15T10:38:28.580452Z",
     "iopub.status.idle": "2024-10-15T10:38:28.589549Z",
     "shell.execute_reply": "2024-10-15T10:38:28.587584Z",
     "shell.execute_reply.started": "2024-10-15T10:38:28.580842Z"
    },
    "papermill": {
     "duration": 0.029396,
     "end_time": "2024-11-08T12:07:34.681460",
     "exception": false,
     "start_time": "2024-11-08T12:07:34.652064",
     "status": "completed"
    },
    "tags": []
   },
   "source": [
    "## MLP Kaggle Competition\n",
    "\n",
    "### Steps:\n",
    "1. **Importing required libraries**\n",
    "2. **Loading data**\n",
    "3. **Exploratory Data Analysis (EDA)**\n",
    "4. **Data Preprocessing**\n",
    "5. **Feature Selection**\n",
    "6. **Model**\n",
    "7. **Submission**\n"
   ]
  },
  {
   "cell_type": "markdown",
   "id": "4774f842",
   "metadata": {
    "papermill": {
     "duration": 0.027335,
     "end_time": "2024-11-08T12:07:34.736207",
     "exception": false,
     "start_time": "2024-11-08T12:07:34.708872",
     "status": "completed"
    },
    "tags": []
   },
   "source": [
    "## **1. Importing required libraries**"
   ]
  },
  {
   "cell_type": "code",
   "execution_count": 1,
   "id": "d1daf051",
   "metadata": {
    "_cell_guid": "b1076dfc-b9ad-4769-8c92-a6c4dae69d19",
    "_uuid": "8f2839f25d086af736a60e9eeb907d3b93b6e0e5",
    "execution": {
     "iopub.execute_input": "2024-11-08T12:07:34.792400Z",
     "iopub.status.busy": "2024-11-08T12:07:34.791944Z",
     "iopub.status.idle": "2024-11-08T12:07:35.666758Z",
     "shell.execute_reply": "2024-11-08T12:07:35.665418Z"
    },
    "papermill": {
     "duration": 0.906183,
     "end_time": "2024-11-08T12:07:35.669309",
     "exception": false,
     "start_time": "2024-11-08T12:07:34.763126",
     "status": "completed"
    },
    "tags": []
   },
   "outputs": [
    {
     "name": "stdout",
     "output_type": "stream",
     "text": [
      "/kaggle/input/predict-the-success-of-bank-telemarketing/sample_submission.csv\n",
      "/kaggle/input/predict-the-success-of-bank-telemarketing/train.csv\n",
      "/kaggle/input/predict-the-success-of-bank-telemarketing/test.csv\n"
     ]
    }
   ],
   "source": [
    "# This Python 3 environment comes with many helpful analytics libraries installed\n",
    "# It is defined by the kaggle/python Docker image: https://github.com/kaggle/docker-python\n",
    "# For example, here's several helpful packages to load\n",
    "\n",
    "import numpy as np # linear algebra\n",
    "import pandas as pd # data processing, CSV file I/O (e.g. pd.read_csv)\n",
    "\n",
    "# Input data files are available in the read-only \"../input/\" directory\n",
    "# For example, running this (by clicking run or pressing Shift+Enter) will list all files under the input directory\n",
    "\n",
    "import os\n",
    "for dirname, _, filenames in os.walk('/kaggle/input'):\n",
    "    for filename in filenames:\n",
    "        print(os.path.join(dirname, filename))\n",
    "\n",
    "# You can write up to 20GB to the current directory (/kaggle/working/) that gets preserved as output when you create a version using \"Save & Run All\" \n",
    "# You can also write temporary files to /kaggle/temp/, but they won't be saved outside of the current session"
   ]
  },
  {
   "cell_type": "code",
   "execution_count": 2,
   "id": "681fdb0d",
   "metadata": {
    "execution": {
     "iopub.execute_input": "2024-11-08T12:07:35.725142Z",
     "iopub.status.busy": "2024-11-08T12:07:35.724592Z",
     "iopub.status.idle": "2024-11-08T12:07:38.261454Z",
     "shell.execute_reply": "2024-11-08T12:07:38.260319Z"
    },
    "papermill": {
     "duration": 2.568112,
     "end_time": "2024-11-08T12:07:38.264399",
     "exception": false,
     "start_time": "2024-11-08T12:07:35.696287",
     "status": "completed"
    },
    "tags": []
   },
   "outputs": [],
   "source": [
    "import regex as re\n",
    "import warnings\n",
    "from sklearn.exceptions import ConvergenceWarning\n",
    "\n",
    "import datetime as dt\n",
    "from copy import deepcopy\n",
    "\n",
    "import seaborn as sns\n",
    "import matplotlib.pyplot as plt\n",
    "%matplotlib inline\n",
    "from imblearn.over_sampling import SMOTE\n",
    "from sklearn.pipeline import Pipeline\n",
    "from sklearn.impute import SimpleImputer,KNNImputer\n",
    "from sklearn.compose import ColumnTransformer\n",
    "from sklearn.base import BaseEstimator, TransformerMixin\n",
    "from sklearn.metrics import classification_report, accuracy_score,confusion_matrix\n",
    "from sklearn.model_selection import (train_test_split, GridSearchCV)\n",
    "from sklearn.feature_selection import SelectKBest, mutual_info_classif, chi2, f_classif\n",
    "from sklearn.preprocessing import ( FunctionTransformer,\n",
    "                                    PolynomialFeatures,\n",
    "                                    LabelEncoder,\n",
    "                                    OrdinalEncoder,\n",
    "                                    OneHotEncoder,\n",
    "                                    MinMaxScaler,\n",
    "                                   MaxAbsScaler,\n",
    "                                   MaxAbsScaler,\n",
    "                                    StandardScaler)\n",
    "from sklearn.svm import SVC\n",
    "import xgboost as xgb\n",
    "from sklearn.decomposition import PCA\n",
    "from sklearn.tree import DecisionTreeClassifier\n",
    "from sklearn.neighbors import KNeighborsClassifier\n",
    "from sklearn.linear_model import LogisticRegression\n",
    "from sklearn.ensemble import BaggingClassifier, RandomForestClassifier, GradientBoostingClassifier\n",
    "\n",
    "from sklearn.model_selection import train_test_split\n",
    "from sklearn.linear_model import LogisticRegression\n",
    "from sklearn.metrics import f1_score\n",
    "from scipy.stats import uniform, randint "
   ]
  },
  {
   "cell_type": "markdown",
   "id": "22b87110",
   "metadata": {
    "execution": {
     "iopub.execute_input": "2024-10-15T10:38:56.636924Z",
     "iopub.status.busy": "2024-10-15T10:38:56.636520Z",
     "iopub.status.idle": "2024-10-15T10:38:56.643884Z",
     "shell.execute_reply": "2024-10-15T10:38:56.642446Z",
     "shell.execute_reply.started": "2024-10-15T10:38:56.636887Z"
    },
    "papermill": {
     "duration": 0.0266,
     "end_time": "2024-11-08T12:07:38.318392",
     "exception": false,
     "start_time": "2024-11-08T12:07:38.291792",
     "status": "completed"
    },
    "tags": []
   },
   "source": [
    "## 2. **Loading Data** \n",
    "Reading bank telemarketing, test and train data"
   ]
  },
  {
   "cell_type": "code",
   "execution_count": 3,
   "id": "45bc3c0b",
   "metadata": {
    "execution": {
     "iopub.execute_input": "2024-11-08T12:07:38.374458Z",
     "iopub.status.busy": "2024-11-08T12:07:38.373463Z",
     "iopub.status.idle": "2024-11-08T12:07:38.584163Z",
     "shell.execute_reply": "2024-11-08T12:07:38.583194Z"
    },
    "papermill": {
     "duration": 0.241577,
     "end_time": "2024-11-08T12:07:38.586948",
     "exception": false,
     "start_time": "2024-11-08T12:07:38.345371",
     "status": "completed"
    },
    "tags": []
   },
   "outputs": [],
   "source": [
    "samp_submission = pd.read_csv(\"/kaggle/input/predict-the-success-of-bank-telemarketing/sample_submission.csv\")\n",
    "test_data =  pd.read_csv(\"/kaggle/input/predict-the-success-of-bank-telemarketing/test.csv\")\n",
    "train_data = pd.read_csv(\"/kaggle/input/predict-the-success-of-bank-telemarketing/train.csv\")"
   ]
  },
  {
   "cell_type": "markdown",
   "id": "b664e07f",
   "metadata": {
    "papermill": {
     "duration": 0.026412,
     "end_time": "2024-11-08T12:07:38.640481",
     "exception": false,
     "start_time": "2024-11-08T12:07:38.614069",
     "status": "completed"
    },
    "tags": []
   },
   "source": [
    "## 3. **Exploratory Data Analysis (EDA)¶**\n",
    "* Data Analysis\n",
    "* Feature Details\n",
    "* Handling Outliers\n",
    "* Checking correlation\n",
    "* Checking Mutual Information"
   ]
  },
  {
   "cell_type": "code",
   "execution_count": 4,
   "id": "54044bab",
   "metadata": {
    "execution": {
     "iopub.execute_input": "2024-11-08T12:07:38.696076Z",
     "iopub.status.busy": "2024-11-08T12:07:38.695235Z",
     "iopub.status.idle": "2024-11-08T12:07:38.700168Z",
     "shell.execute_reply": "2024-11-08T12:07:38.699144Z"
    },
    "papermill": {
     "duration": 0.035215,
     "end_time": "2024-11-08T12:07:38.702422",
     "exception": false,
     "start_time": "2024-11-08T12:07:38.667207",
     "status": "completed"
    },
    "tags": []
   },
   "outputs": [],
   "source": [
    "pd.set_option(\"display.max_columns\", 100)"
   ]
  },
  {
   "cell_type": "code",
   "execution_count": 5,
   "id": "dcf59ab5",
   "metadata": {
    "execution": {
     "iopub.execute_input": "2024-11-08T12:07:38.758286Z",
     "iopub.status.busy": "2024-11-08T12:07:38.757486Z",
     "iopub.status.idle": "2024-11-08T12:07:38.763907Z",
     "shell.execute_reply": "2024-11-08T12:07:38.762581Z"
    },
    "papermill": {
     "duration": 0.037435,
     "end_time": "2024-11-08T12:07:38.766660",
     "exception": false,
     "start_time": "2024-11-08T12:07:38.729225",
     "status": "completed"
    },
    "tags": []
   },
   "outputs": [
    {
     "name": "stdout",
     "output_type": "stream",
     "text": [
      "Shape of samp_submission :  (10000, 2)\n",
      "Shape of train :  (39211, 16)\n",
      "Shape of test :  (10000, 15)\n"
     ]
    }
   ],
   "source": [
    "print(\"Shape of samp_submission : \", samp_submission.shape)\n",
    "print(\"Shape of train : \", train_data.shape)\n",
    "print(\"Shape of test : \", test_data.shape)"
   ]
  },
  {
   "cell_type": "code",
   "execution_count": 6,
   "id": "44200054",
   "metadata": {
    "execution": {
     "iopub.execute_input": "2024-11-08T12:07:38.823131Z",
     "iopub.status.busy": "2024-11-08T12:07:38.822137Z",
     "iopub.status.idle": "2024-11-08T12:07:38.850320Z",
     "shell.execute_reply": "2024-11-08T12:07:38.849240Z"
    },
    "papermill": {
     "duration": 0.058873,
     "end_time": "2024-11-08T12:07:38.852652",
     "exception": false,
     "start_time": "2024-11-08T12:07:38.793779",
     "status": "completed"
    },
    "tags": []
   },
   "outputs": [
    {
     "data": {
      "text/html": [
       "<div>\n",
       "<style scoped>\n",
       "    .dataframe tbody tr th:only-of-type {\n",
       "        vertical-align: middle;\n",
       "    }\n",
       "\n",
       "    .dataframe tbody tr th {\n",
       "        vertical-align: top;\n",
       "    }\n",
       "\n",
       "    .dataframe thead th {\n",
       "        text-align: right;\n",
       "    }\n",
       "</style>\n",
       "<table border=\"1\" class=\"dataframe\">\n",
       "  <thead>\n",
       "    <tr style=\"text-align: right;\">\n",
       "      <th></th>\n",
       "      <th>last contact date</th>\n",
       "      <th>age</th>\n",
       "      <th>job</th>\n",
       "      <th>marital</th>\n",
       "      <th>education</th>\n",
       "      <th>default</th>\n",
       "      <th>balance</th>\n",
       "      <th>housing</th>\n",
       "      <th>loan</th>\n",
       "      <th>contact</th>\n",
       "      <th>duration</th>\n",
       "      <th>campaign</th>\n",
       "      <th>pdays</th>\n",
       "      <th>previous</th>\n",
       "      <th>poutcome</th>\n",
       "      <th>target</th>\n",
       "    </tr>\n",
       "  </thead>\n",
       "  <tbody>\n",
       "    <tr>\n",
       "      <th>0</th>\n",
       "      <td>2009-04-17</td>\n",
       "      <td>26</td>\n",
       "      <td>blue-collar</td>\n",
       "      <td>married</td>\n",
       "      <td>secondary</td>\n",
       "      <td>no</td>\n",
       "      <td>647</td>\n",
       "      <td>yes</td>\n",
       "      <td>no</td>\n",
       "      <td>cellular</td>\n",
       "      <td>357</td>\n",
       "      <td>2</td>\n",
       "      <td>331</td>\n",
       "      <td>1</td>\n",
       "      <td>other</td>\n",
       "      <td>no</td>\n",
       "    </tr>\n",
       "    <tr>\n",
       "      <th>1</th>\n",
       "      <td>2009-10-11</td>\n",
       "      <td>52</td>\n",
       "      <td>technician</td>\n",
       "      <td>married</td>\n",
       "      <td>secondary</td>\n",
       "      <td>no</td>\n",
       "      <td>553</td>\n",
       "      <td>yes</td>\n",
       "      <td>no</td>\n",
       "      <td>telephone</td>\n",
       "      <td>160</td>\n",
       "      <td>1</td>\n",
       "      <td>-1</td>\n",
       "      <td>0</td>\n",
       "      <td>NaN</td>\n",
       "      <td>no</td>\n",
       "    </tr>\n",
       "    <tr>\n",
       "      <th>2</th>\n",
       "      <td>2010-11-20</td>\n",
       "      <td>44</td>\n",
       "      <td>blue-collar</td>\n",
       "      <td>married</td>\n",
       "      <td>secondary</td>\n",
       "      <td>no</td>\n",
       "      <td>1397</td>\n",
       "      <td>no</td>\n",
       "      <td>no</td>\n",
       "      <td>cellular</td>\n",
       "      <td>326</td>\n",
       "      <td>1</td>\n",
       "      <td>-1</td>\n",
       "      <td>0</td>\n",
       "      <td>NaN</td>\n",
       "      <td>no</td>\n",
       "    </tr>\n",
       "    <tr>\n",
       "      <th>3</th>\n",
       "      <td>2009-09-01</td>\n",
       "      <td>33</td>\n",
       "      <td>admin.</td>\n",
       "      <td>married</td>\n",
       "      <td>secondary</td>\n",
       "      <td>no</td>\n",
       "      <td>394</td>\n",
       "      <td>yes</td>\n",
       "      <td>no</td>\n",
       "      <td>telephone</td>\n",
       "      <td>104</td>\n",
       "      <td>3</td>\n",
       "      <td>-1</td>\n",
       "      <td>0</td>\n",
       "      <td>NaN</td>\n",
       "      <td>no</td>\n",
       "    </tr>\n",
       "    <tr>\n",
       "      <th>4</th>\n",
       "      <td>2008-01-29</td>\n",
       "      <td>31</td>\n",
       "      <td>entrepreneur</td>\n",
       "      <td>single</td>\n",
       "      <td>tertiary</td>\n",
       "      <td>no</td>\n",
       "      <td>137</td>\n",
       "      <td>no</td>\n",
       "      <td>no</td>\n",
       "      <td>cellular</td>\n",
       "      <td>445</td>\n",
       "      <td>2</td>\n",
       "      <td>-1</td>\n",
       "      <td>0</td>\n",
       "      <td>NaN</td>\n",
       "      <td>no</td>\n",
       "    </tr>\n",
       "  </tbody>\n",
       "</table>\n",
       "</div>"
      ],
      "text/plain": [
       "  last contact date  age           job  marital  education default  balance  \\\n",
       "0        2009-04-17   26   blue-collar  married  secondary      no      647   \n",
       "1        2009-10-11   52    technician  married  secondary      no      553   \n",
       "2        2010-11-20   44   blue-collar  married  secondary      no     1397   \n",
       "3        2009-09-01   33        admin.  married  secondary      no      394   \n",
       "4        2008-01-29   31  entrepreneur   single   tertiary      no      137   \n",
       "\n",
       "  housing loan    contact  duration  campaign  pdays  previous poutcome target  \n",
       "0     yes   no   cellular       357         2    331         1    other     no  \n",
       "1     yes   no  telephone       160         1     -1         0      NaN     no  \n",
       "2      no   no   cellular       326         1     -1         0      NaN     no  \n",
       "3     yes   no  telephone       104         3     -1         0      NaN     no  \n",
       "4      no   no   cellular       445         2     -1         0      NaN     no  "
      ]
     },
     "execution_count": 6,
     "metadata": {},
     "output_type": "execute_result"
    }
   ],
   "source": [
    "train_data.head()"
   ]
  },
  {
   "cell_type": "code",
   "execution_count": 7,
   "id": "24dc6fef",
   "metadata": {
    "execution": {
     "iopub.execute_input": "2024-11-08T12:07:38.909704Z",
     "iopub.status.busy": "2024-11-08T12:07:38.908811Z",
     "iopub.status.idle": "2024-11-08T12:07:38.983893Z",
     "shell.execute_reply": "2024-11-08T12:07:38.982614Z"
    },
    "papermill": {
     "duration": 0.10853,
     "end_time": "2024-11-08T12:07:38.988773",
     "exception": false,
     "start_time": "2024-11-08T12:07:38.880243",
     "status": "completed"
    },
    "tags": []
   },
   "outputs": [
    {
     "name": "stdout",
     "output_type": "stream",
     "text": [
      "<class 'pandas.core.frame.DataFrame'>\n",
      "RangeIndex: 39211 entries, 0 to 39210\n",
      "Data columns (total 16 columns):\n",
      " #   Column             Non-Null Count  Dtype \n",
      "---  ------             --------------  ----- \n",
      " 0   last contact date  39211 non-null  object\n",
      " 1   age                39211 non-null  int64 \n",
      " 2   job                38982 non-null  object\n",
      " 3   marital            39211 non-null  object\n",
      " 4   education          37744 non-null  object\n",
      " 5   default            39211 non-null  object\n",
      " 6   balance            39211 non-null  int64 \n",
      " 7   housing            39211 non-null  object\n",
      " 8   loan               39211 non-null  object\n",
      " 9   contact            28875 non-null  object\n",
      " 10  duration           39211 non-null  int64 \n",
      " 11  campaign           39211 non-null  int64 \n",
      " 12  pdays              39211 non-null  int64 \n",
      " 13  previous           39211 non-null  int64 \n",
      " 14  poutcome           9760 non-null   object\n",
      " 15  target             39211 non-null  object\n",
      "dtypes: int64(6), object(10)\n",
      "memory usage: 4.8+ MB\n"
     ]
    }
   ],
   "source": [
    "train_data.info()"
   ]
  },
  {
   "cell_type": "code",
   "execution_count": 8,
   "id": "2d5e9eb3",
   "metadata": {
    "execution": {
     "iopub.execute_input": "2024-11-08T12:07:39.049369Z",
     "iopub.status.busy": "2024-11-08T12:07:39.048961Z",
     "iopub.status.idle": "2024-11-08T12:07:39.101545Z",
     "shell.execute_reply": "2024-11-08T12:07:39.100082Z"
    },
    "papermill": {
     "duration": 0.0877,
     "end_time": "2024-11-08T12:07:39.104965",
     "exception": false,
     "start_time": "2024-11-08T12:07:39.017265",
     "status": "completed"
    },
    "tags": []
   },
   "outputs": [
    {
     "data": {
      "text/html": [
       "<div>\n",
       "<style scoped>\n",
       "    .dataframe tbody tr th:only-of-type {\n",
       "        vertical-align: middle;\n",
       "    }\n",
       "\n",
       "    .dataframe tbody tr th {\n",
       "        vertical-align: top;\n",
       "    }\n",
       "\n",
       "    .dataframe thead th {\n",
       "        text-align: right;\n",
       "    }\n",
       "</style>\n",
       "<table border=\"1\" class=\"dataframe\">\n",
       "  <thead>\n",
       "    <tr style=\"text-align: right;\">\n",
       "      <th></th>\n",
       "      <th>age</th>\n",
       "      <th>balance</th>\n",
       "      <th>duration</th>\n",
       "      <th>campaign</th>\n",
       "      <th>pdays</th>\n",
       "      <th>previous</th>\n",
       "    </tr>\n",
       "  </thead>\n",
       "  <tbody>\n",
       "    <tr>\n",
       "      <th>count</th>\n",
       "      <td>39211.000000</td>\n",
       "      <td>39211.000000</td>\n",
       "      <td>39211.000000</td>\n",
       "      <td>39211.000000</td>\n",
       "      <td>39211.000000</td>\n",
       "      <td>39211.000000</td>\n",
       "    </tr>\n",
       "    <tr>\n",
       "      <th>mean</th>\n",
       "      <td>42.120247</td>\n",
       "      <td>5441.781719</td>\n",
       "      <td>439.062789</td>\n",
       "      <td>5.108770</td>\n",
       "      <td>72.256051</td>\n",
       "      <td>11.826171</td>\n",
       "    </tr>\n",
       "    <tr>\n",
       "      <th>std</th>\n",
       "      <td>12.709352</td>\n",
       "      <td>16365.292065</td>\n",
       "      <td>769.096291</td>\n",
       "      <td>9.890153</td>\n",
       "      <td>160.942593</td>\n",
       "      <td>44.140259</td>\n",
       "    </tr>\n",
       "    <tr>\n",
       "      <th>min</th>\n",
       "      <td>18.000000</td>\n",
       "      <td>-8019.000000</td>\n",
       "      <td>0.000000</td>\n",
       "      <td>1.000000</td>\n",
       "      <td>-1.000000</td>\n",
       "      <td>0.000000</td>\n",
       "    </tr>\n",
       "    <tr>\n",
       "      <th>25%</th>\n",
       "      <td>33.000000</td>\n",
       "      <td>98.000000</td>\n",
       "      <td>109.000000</td>\n",
       "      <td>1.000000</td>\n",
       "      <td>-1.000000</td>\n",
       "      <td>0.000000</td>\n",
       "    </tr>\n",
       "    <tr>\n",
       "      <th>50%</th>\n",
       "      <td>40.000000</td>\n",
       "      <td>549.000000</td>\n",
       "      <td>197.000000</td>\n",
       "      <td>2.000000</td>\n",
       "      <td>-1.000000</td>\n",
       "      <td>0.000000</td>\n",
       "    </tr>\n",
       "    <tr>\n",
       "      <th>75%</th>\n",
       "      <td>50.000000</td>\n",
       "      <td>2030.000000</td>\n",
       "      <td>380.000000</td>\n",
       "      <td>4.000000</td>\n",
       "      <td>-1.000000</td>\n",
       "      <td>0.000000</td>\n",
       "    </tr>\n",
       "    <tr>\n",
       "      <th>max</th>\n",
       "      <td>95.000000</td>\n",
       "      <td>102127.000000</td>\n",
       "      <td>4918.000000</td>\n",
       "      <td>63.000000</td>\n",
       "      <td>871.000000</td>\n",
       "      <td>275.000000</td>\n",
       "    </tr>\n",
       "  </tbody>\n",
       "</table>\n",
       "</div>"
      ],
      "text/plain": [
       "                age        balance      duration      campaign         pdays  \\\n",
       "count  39211.000000   39211.000000  39211.000000  39211.000000  39211.000000   \n",
       "mean      42.120247    5441.781719    439.062789      5.108770     72.256051   \n",
       "std       12.709352   16365.292065    769.096291      9.890153    160.942593   \n",
       "min       18.000000   -8019.000000      0.000000      1.000000     -1.000000   \n",
       "25%       33.000000      98.000000    109.000000      1.000000     -1.000000   \n",
       "50%       40.000000     549.000000    197.000000      2.000000     -1.000000   \n",
       "75%       50.000000    2030.000000    380.000000      4.000000     -1.000000   \n",
       "max       95.000000  102127.000000   4918.000000     63.000000    871.000000   \n",
       "\n",
       "           previous  \n",
       "count  39211.000000  \n",
       "mean      11.826171  \n",
       "std       44.140259  \n",
       "min        0.000000  \n",
       "25%        0.000000  \n",
       "50%        0.000000  \n",
       "75%        0.000000  \n",
       "max      275.000000  "
      ]
     },
     "execution_count": 8,
     "metadata": {},
     "output_type": "execute_result"
    }
   ],
   "source": [
    "train_data.describe()"
   ]
  },
  {
   "cell_type": "code",
   "execution_count": 9,
   "id": "62a1db1a",
   "metadata": {
    "execution": {
     "iopub.execute_input": "2024-11-08T12:07:39.185781Z",
     "iopub.status.busy": "2024-11-08T12:07:39.185313Z",
     "iopub.status.idle": "2024-11-08T12:07:39.211188Z",
     "shell.execute_reply": "2024-11-08T12:07:39.209799Z"
    },
    "papermill": {
     "duration": 0.070764,
     "end_time": "2024-11-08T12:07:39.215215",
     "exception": false,
     "start_time": "2024-11-08T12:07:39.144451",
     "status": "completed"
    },
    "tags": []
   },
   "outputs": [],
   "source": [
    "train_data[\"last contact date\"]= pd.to_datetime(train_data[\"last contact date\" ])\n",
    "test_data[\"last contact date\"]= pd.to_datetime(test_data[\"last contact date\" ])"
   ]
  },
  {
   "cell_type": "code",
   "execution_count": 10,
   "id": "74dc95e9",
   "metadata": {
    "execution": {
     "iopub.execute_input": "2024-11-08T12:07:39.280271Z",
     "iopub.status.busy": "2024-11-08T12:07:39.279819Z",
     "iopub.status.idle": "2024-11-08T12:07:39.291104Z",
     "shell.execute_reply": "2024-11-08T12:07:39.290048Z"
    },
    "papermill": {
     "duration": 0.045327,
     "end_time": "2024-11-08T12:07:39.293578",
     "exception": false,
     "start_time": "2024-11-08T12:07:39.248251",
     "status": "completed"
    },
    "tags": []
   },
   "outputs": [
    {
     "data": {
      "text/html": [
       "<div>\n",
       "<style scoped>\n",
       "    .dataframe tbody tr th:only-of-type {\n",
       "        vertical-align: middle;\n",
       "    }\n",
       "\n",
       "    .dataframe tbody tr th {\n",
       "        vertical-align: top;\n",
       "    }\n",
       "\n",
       "    .dataframe thead th {\n",
       "        text-align: right;\n",
       "    }\n",
       "</style>\n",
       "<table border=\"1\" class=\"dataframe\">\n",
       "  <thead>\n",
       "    <tr style=\"text-align: right;\">\n",
       "      <th></th>\n",
       "      <th>id</th>\n",
       "      <th>target</th>\n",
       "    </tr>\n",
       "  </thead>\n",
       "  <tbody>\n",
       "    <tr>\n",
       "      <th>0</th>\n",
       "      <td>0</td>\n",
       "      <td>no</td>\n",
       "    </tr>\n",
       "    <tr>\n",
       "      <th>1</th>\n",
       "      <td>1</td>\n",
       "      <td>no</td>\n",
       "    </tr>\n",
       "    <tr>\n",
       "      <th>2</th>\n",
       "      <td>2</td>\n",
       "      <td>no</td>\n",
       "    </tr>\n",
       "    <tr>\n",
       "      <th>3</th>\n",
       "      <td>3</td>\n",
       "      <td>yes</td>\n",
       "    </tr>\n",
       "    <tr>\n",
       "      <th>4</th>\n",
       "      <td>4</td>\n",
       "      <td>yes</td>\n",
       "    </tr>\n",
       "    <tr>\n",
       "      <th>5</th>\n",
       "      <td>5</td>\n",
       "      <td>no</td>\n",
       "    </tr>\n",
       "    <tr>\n",
       "      <th>6</th>\n",
       "      <td>6</td>\n",
       "      <td>no</td>\n",
       "    </tr>\n",
       "    <tr>\n",
       "      <th>7</th>\n",
       "      <td>7</td>\n",
       "      <td>yes</td>\n",
       "    </tr>\n",
       "    <tr>\n",
       "      <th>8</th>\n",
       "      <td>8</td>\n",
       "      <td>no</td>\n",
       "    </tr>\n",
       "    <tr>\n",
       "      <th>9</th>\n",
       "      <td>9</td>\n",
       "      <td>no</td>\n",
       "    </tr>\n",
       "  </tbody>\n",
       "</table>\n",
       "</div>"
      ],
      "text/plain": [
       "   id target\n",
       "0   0     no\n",
       "1   1     no\n",
       "2   2     no\n",
       "3   3    yes\n",
       "4   4    yes\n",
       "5   5     no\n",
       "6   6     no\n",
       "7   7    yes\n",
       "8   8     no\n",
       "9   9     no"
      ]
     },
     "execution_count": 10,
     "metadata": {},
     "output_type": "execute_result"
    }
   ],
   "source": [
    "samp_submission.head(10)"
   ]
  },
  {
   "cell_type": "markdown",
   "id": "93aa3755",
   "metadata": {
    "papermill": {
     "duration": 0.027654,
     "end_time": "2024-11-08T12:07:39.349413",
     "exception": false,
     "start_time": "2024-11-08T12:07:39.321759",
     "status": "completed"
    },
    "tags": []
   },
   "source": [
    "#### Feature Details\n",
    "\n",
    "#### Columns Description\n",
    "1. **last contact date**: last contact date\n",
    "2. **age**: age (numeric)\n",
    "3. **job**: type of job\n",
    "4. **marital**: marital status (categorical: \"married\", \"divorced\", \"single\"; note: \"divorced\" means divorced or widowed)\n",
    "5. **education**: education level (categorical: \"unknown\", \"secondary\", \"primary\", \"tertiary\")\n",
    "6. **default**: has credit in default? (binary: \"yes\", \"no\")\n",
    "7. **balance**: average yearly balance, in euros (numeric)\n",
    "8. **housing**: has housing loan? (binary: \"yes\", \"no\")\n",
    "9. **loan**: has personal loan? (binary: \"yes\", \"no\")\n",
    "10. **contact**: contact communication type (categorical: \"unknown\", \"telephone\", \"cellular\")\n",
    "11. **duration**: last contact duration, in seconds (numeric)\n",
    "12. **campaign**: number of contacts performed during this campaign and for this client (numeric, includes last contact)\n",
    "13. **pdays**: number of days that passed by after the client was last contacted from a previous campaign (numeric, -1 means client was not previously contacted)\n",
    "14. **previous**: number of contacts performed before this campaign and for this client (numeric)\n",
    "15. **poutcome**: outcome of the previous marketing campaign (categorical: \"unknown\", \"other\", \"failure\", \"success\")\n"
   ]
  },
  {
   "cell_type": "markdown",
   "id": "0d69987f",
   "metadata": {
    "papermill": {
     "duration": 0.027538,
     "end_time": "2024-11-08T12:07:39.404886",
     "exception": false,
     "start_time": "2024-11-08T12:07:39.377348",
     "status": "completed"
    },
    "tags": []
   },
   "source": [
    "**last contact date**: last contact date"
   ]
  },
  {
   "cell_type": "code",
   "execution_count": 11,
   "id": "33d71374",
   "metadata": {
    "execution": {
     "iopub.execute_input": "2024-11-08T12:07:39.462228Z",
     "iopub.status.busy": "2024-11-08T12:07:39.461817Z",
     "iopub.status.idle": "2024-11-08T12:07:39.472163Z",
     "shell.execute_reply": "2024-11-08T12:07:39.471206Z"
    },
    "papermill": {
     "duration": 0.041813,
     "end_time": "2024-11-08T12:07:39.474419",
     "exception": false,
     "start_time": "2024-11-08T12:07:39.432606",
     "status": "completed"
    },
    "tags": []
   },
   "outputs": [
    {
     "data": {
      "text/plain": [
       "<DatetimeArray>\n",
       "['2009-04-17 00:00:00', '2009-10-11 00:00:00', '2010-11-20 00:00:00',\n",
       " '2009-09-01 00:00:00', '2008-01-29 00:00:00', '2009-05-07 00:00:00',\n",
       " '2009-05-15 00:00:00', '2010-05-08 00:00:00', '2008-12-13 00:00:00',\n",
       " '2010-05-21 00:00:00',\n",
       " ...\n",
       " '2009-05-17 00:00:00', '2008-02-13 00:00:00', '2009-07-19 00:00:00',\n",
       " '2008-07-06 00:00:00', '2009-05-10 00:00:00', '2010-11-24 00:00:00',\n",
       " '2008-12-31 00:00:00', '2009-07-05 00:00:00', '2008-02-25 00:00:00',\n",
       " '2010-04-12 00:00:00']\n",
       "Length: 1013, dtype: datetime64[ns]"
      ]
     },
     "execution_count": 11,
     "metadata": {},
     "output_type": "execute_result"
    }
   ],
   "source": [
    "train_data[\"last contact date\"].unique()"
   ]
  },
  {
   "cell_type": "markdown",
   "id": "18c753d7",
   "metadata": {
    "papermill": {
     "duration": 0.027518,
     "end_time": "2024-11-08T12:07:39.529845",
     "exception": false,
     "start_time": "2024-11-08T12:07:39.502327",
     "status": "completed"
    },
    "tags": []
   },
   "source": [
    "Date Length are 1013 that mean this can be depend on target that also mean it's not a index "
   ]
  },
  {
   "cell_type": "markdown",
   "id": "e6f65df6",
   "metadata": {
    "papermill": {
     "duration": 0.027946,
     "end_time": "2024-11-08T12:07:39.586218",
     "exception": false,
     "start_time": "2024-11-08T12:07:39.558272",
     "status": "completed"
    },
    "tags": []
   },
   "source": [
    "**age**: age (numeric)"
   ]
  },
  {
   "cell_type": "code",
   "execution_count": 12,
   "id": "8eb9e1c8",
   "metadata": {
    "execution": {
     "iopub.execute_input": "2024-11-08T12:07:39.644539Z",
     "iopub.status.busy": "2024-11-08T12:07:39.643604Z",
     "iopub.status.idle": "2024-11-08T12:07:39.651788Z",
     "shell.execute_reply": "2024-11-08T12:07:39.650765Z"
    },
    "papermill": {
     "duration": 0.039936,
     "end_time": "2024-11-08T12:07:39.654178",
     "exception": false,
     "start_time": "2024-11-08T12:07:39.614242",
     "status": "completed"
    },
    "tags": []
   },
   "outputs": [
    {
     "data": {
      "text/plain": [
       "array([26, 52, 44, 33, 31, 25, 46, 37, 38, 32, 28, 34, 86, 42, 58, 39, 35,\n",
       "       47, 45, 48, 30, 50, 56, 54, 40, 53, 41, 51, 27, 29, 57, 63, 36, 43,\n",
       "       19, 55, 49, 23, 83, 60, 22, 80, 76, 59, 24, 93, 71, 89, 64, 68, 85,\n",
       "       79, 62, 69, 20, 90, 66, 87, 72, 88, 67, 70, 77, 91, 78, 61, 65, 73,\n",
       "       74, 84, 82, 92, 81, 18, 21, 75, 94, 95])"
      ]
     },
     "execution_count": 12,
     "metadata": {},
     "output_type": "execute_result"
    }
   ],
   "source": [
    "train_data[\"age\"].unique()"
   ]
  },
  {
   "cell_type": "code",
   "execution_count": 13,
   "id": "23ce21e5",
   "metadata": {
    "execution": {
     "iopub.execute_input": "2024-11-08T12:07:39.715003Z",
     "iopub.status.busy": "2024-11-08T12:07:39.714566Z",
     "iopub.status.idle": "2024-11-08T12:07:39.724238Z",
     "shell.execute_reply": "2024-11-08T12:07:39.723197Z"
    },
    "papermill": {
     "duration": 0.044116,
     "end_time": "2024-11-08T12:07:39.726744",
     "exception": false,
     "start_time": "2024-11-08T12:07:39.682628",
     "status": "completed"
    },
    "tags": []
   },
   "outputs": [
    {
     "data": {
      "text/plain": [
       "array(['blue-collar', 'technician', 'admin.', 'entrepreneur',\n",
       "       'unemployed', 'management', 'services', 'student', 'self-employed',\n",
       "       'retired', 'housemaid', nan], dtype=object)"
      ]
     },
     "execution_count": 13,
     "metadata": {},
     "output_type": "execute_result"
    }
   ],
   "source": [
    "train_data[\"job\"].unique()"
   ]
  },
  {
   "cell_type": "code",
   "execution_count": 14,
   "id": "8ff250a3",
   "metadata": {
    "execution": {
     "iopub.execute_input": "2024-11-08T12:07:39.786025Z",
     "iopub.status.busy": "2024-11-08T12:07:39.785078Z",
     "iopub.status.idle": "2024-11-08T12:07:39.795904Z",
     "shell.execute_reply": "2024-11-08T12:07:39.794940Z"
    },
    "papermill": {
     "duration": 0.042936,
     "end_time": "2024-11-08T12:07:39.798305",
     "exception": false,
     "start_time": "2024-11-08T12:07:39.755369",
     "status": "completed"
    },
    "tags": []
   },
   "outputs": [
    {
     "data": {
      "text/plain": [
       "array(['married', 'single', 'divorced'], dtype=object)"
      ]
     },
     "execution_count": 14,
     "metadata": {},
     "output_type": "execute_result"
    }
   ],
   "source": [
    "train_data[\"marital\"].unique()"
   ]
  },
  {
   "cell_type": "code",
   "execution_count": 15,
   "id": "fcfe9919",
   "metadata": {
    "execution": {
     "iopub.execute_input": "2024-11-08T12:07:39.909471Z",
     "iopub.status.busy": "2024-11-08T12:07:39.908331Z",
     "iopub.status.idle": "2024-11-08T12:07:39.918815Z",
     "shell.execute_reply": "2024-11-08T12:07:39.917776Z"
    },
    "papermill": {
     "duration": 0.043204,
     "end_time": "2024-11-08T12:07:39.921198",
     "exception": false,
     "start_time": "2024-11-08T12:07:39.877994",
     "status": "completed"
    },
    "tags": []
   },
   "outputs": [
    {
     "data": {
      "text/plain": [
       "array(['secondary', 'tertiary', 'primary', nan], dtype=object)"
      ]
     },
     "execution_count": 15,
     "metadata": {},
     "output_type": "execute_result"
    }
   ],
   "source": [
    "train_data[\"education\"].unique()"
   ]
  },
  {
   "cell_type": "code",
   "execution_count": 16,
   "id": "c94af72f",
   "metadata": {
    "execution": {
     "iopub.execute_input": "2024-11-08T12:07:39.982214Z",
     "iopub.status.busy": "2024-11-08T12:07:39.981795Z",
     "iopub.status.idle": "2024-11-08T12:07:39.991997Z",
     "shell.execute_reply": "2024-11-08T12:07:39.990955Z"
    },
    "papermill": {
     "duration": 0.044311,
     "end_time": "2024-11-08T12:07:39.994300",
     "exception": false,
     "start_time": "2024-11-08T12:07:39.949989",
     "status": "completed"
    },
    "tags": []
   },
   "outputs": [
    {
     "data": {
      "text/plain": [
       "array(['no', 'yes'], dtype=object)"
      ]
     },
     "execution_count": 16,
     "metadata": {},
     "output_type": "execute_result"
    }
   ],
   "source": [
    "train_data[\"default\"].unique()"
   ]
  },
  {
   "cell_type": "code",
   "execution_count": 17,
   "id": "c6a67802",
   "metadata": {
    "execution": {
     "iopub.execute_input": "2024-11-08T12:07:40.054192Z",
     "iopub.status.busy": "2024-11-08T12:07:40.053768Z",
     "iopub.status.idle": "2024-11-08T12:07:40.063824Z",
     "shell.execute_reply": "2024-11-08T12:07:40.062768Z"
    },
    "papermill": {
     "duration": 0.042815,
     "end_time": "2024-11-08T12:07:40.066112",
     "exception": false,
     "start_time": "2024-11-08T12:07:40.023297",
     "status": "completed"
    },
    "tags": []
   },
   "outputs": [
    {
     "data": {
      "text/plain": [
       "array(['yes', 'no'], dtype=object)"
      ]
     },
     "execution_count": 17,
     "metadata": {},
     "output_type": "execute_result"
    }
   ],
   "source": [
    "train_data[\"housing\"].unique()"
   ]
  },
  {
   "cell_type": "code",
   "execution_count": 18,
   "id": "bb568a76",
   "metadata": {
    "execution": {
     "iopub.execute_input": "2024-11-08T12:07:40.125781Z",
     "iopub.status.busy": "2024-11-08T12:07:40.125330Z",
     "iopub.status.idle": "2024-11-08T12:07:40.135809Z",
     "shell.execute_reply": "2024-11-08T12:07:40.134784Z"
    },
    "papermill": {
     "duration": 0.043128,
     "end_time": "2024-11-08T12:07:40.138284",
     "exception": false,
     "start_time": "2024-11-08T12:07:40.095156",
     "status": "completed"
    },
    "tags": []
   },
   "outputs": [
    {
     "data": {
      "text/plain": [
       "array(['no', 'yes'], dtype=object)"
      ]
     },
     "execution_count": 18,
     "metadata": {},
     "output_type": "execute_result"
    }
   ],
   "source": [
    "train_data[\"loan\"].unique()"
   ]
  },
  {
   "cell_type": "code",
   "execution_count": 19,
   "id": "a42f7232",
   "metadata": {
    "execution": {
     "iopub.execute_input": "2024-11-08T12:07:40.199241Z",
     "iopub.status.busy": "2024-11-08T12:07:40.198827Z",
     "iopub.status.idle": "2024-11-08T12:07:40.208249Z",
     "shell.execute_reply": "2024-11-08T12:07:40.207209Z"
    },
    "papermill": {
     "duration": 0.043121,
     "end_time": "2024-11-08T12:07:40.210930",
     "exception": false,
     "start_time": "2024-11-08T12:07:40.167809",
     "status": "completed"
    },
    "tags": []
   },
   "outputs": [
    {
     "data": {
      "text/plain": [
       "array(['cellular', 'telephone', nan], dtype=object)"
      ]
     },
     "execution_count": 19,
     "metadata": {},
     "output_type": "execute_result"
    }
   ],
   "source": [
    "train_data[\"contact\"].unique()"
   ]
  },
  {
   "cell_type": "code",
   "execution_count": 20,
   "id": "1163d35e",
   "metadata": {
    "execution": {
     "iopub.execute_input": "2024-11-08T12:07:40.272163Z",
     "iopub.status.busy": "2024-11-08T12:07:40.271684Z",
     "iopub.status.idle": "2024-11-08T12:07:40.280053Z",
     "shell.execute_reply": "2024-11-08T12:07:40.278759Z"
    },
    "papermill": {
     "duration": 0.041742,
     "end_time": "2024-11-08T12:07:40.282427",
     "exception": false,
     "start_time": "2024-11-08T12:07:40.240685",
     "status": "completed"
    },
    "tags": []
   },
   "outputs": [
    {
     "data": {
      "text/plain": [
       "array([ 357,  160,  326, ..., 3506, 4144, 1631])"
      ]
     },
     "execution_count": 20,
     "metadata": {},
     "output_type": "execute_result"
    }
   ],
   "source": [
    "train_data[\"duration\"].unique()"
   ]
  },
  {
   "cell_type": "code",
   "execution_count": 21,
   "id": "f53aa9a2",
   "metadata": {
    "execution": {
     "iopub.execute_input": "2024-11-08T12:07:40.343534Z",
     "iopub.status.busy": "2024-11-08T12:07:40.343118Z",
     "iopub.status.idle": "2024-11-08T12:07:40.350988Z",
     "shell.execute_reply": "2024-11-08T12:07:40.349999Z"
    },
    "papermill": {
     "duration": 0.04121,
     "end_time": "2024-11-08T12:07:40.353427",
     "exception": false,
     "start_time": "2024-11-08T12:07:40.312217",
     "status": "completed"
    },
    "tags": []
   },
   "outputs": [
    {
     "data": {
      "text/plain": [
       "array([ 2,  1,  3,  4,  6, 45,  5, 44, 12, 61, 58,  7,  8, 20, 43, 17, 13,\n",
       "       15, 48, 34, 11, 54, 22, 26, 29, 21, 10, 49,  9, 52, 53, 57, 16, 50,\n",
       "       46, 47, 23, 37, 18, 38, 32, 36, 39, 56, 14, 30, 41, 63, 51, 28, 25,\n",
       "       62, 55, 42, 35, 31, 59, 19, 40, 33, 24, 27, 60])"
      ]
     },
     "execution_count": 21,
     "metadata": {},
     "output_type": "execute_result"
    }
   ],
   "source": [
    "train_data[\"campaign\"].unique()"
   ]
  },
  {
   "cell_type": "code",
   "execution_count": 22,
   "id": "5129437a",
   "metadata": {
    "execution": {
     "iopub.execute_input": "2024-11-08T12:07:40.414492Z",
     "iopub.status.busy": "2024-11-08T12:07:40.414056Z",
     "iopub.status.idle": "2024-11-08T12:07:40.425320Z",
     "shell.execute_reply": "2024-11-08T12:07:40.424293Z"
    },
    "papermill": {
     "duration": 0.044857,
     "end_time": "2024-11-08T12:07:40.427826",
     "exception": false,
     "start_time": "2024-11-08T12:07:40.382969",
     "status": "completed"
    },
    "tags": []
   },
   "outputs": [
    {
     "data": {
      "text/plain": [
       "array([331,  -1, 852, 661, 152, 599, 365, 367, 238, 129, 287, 174, 120,\n",
       "       368, 371, 187, 610, 364, 633,  80, 125, 356, 248, 186, 278, 154,\n",
       "        90,  98, 574, 352, 561, 260, 801,  78, 596, 343, 671, 175, 159,\n",
       "        12, 111,  31, 342, 357,  74, 100, 289,  84, 109, 245, 369,  83,\n",
       "       536, 216,  89,  97, 252, 143, 378, 336, 172, 160, 191,  91, 848,\n",
       "       258, 317,  94, 196, 362, 188, 272, 138, 298, 116, 101, 591, 360,\n",
       "       234, 505, 631,  82,   8, 300, 472, 173, 530, 103, 236, 316, 370,\n",
       "       611, 271, 305,  79, 474, 405, 293, 442, 178, 232, 299, 213, 184,\n",
       "       237,  93,  37, 255, 353, 259, 181, 315, 147, 349, 335, 165, 295,\n",
       "       203, 290,   6, 767, 302, 169, 320, 148,  19, 435, 328, 645, 526,\n",
       "       150, 318, 347,  29,  96, 254,  35, 136, 350, 759, 358, 670, 348,\n",
       "       224, 114, 102, 407, 326, 330, 665, 760, 445, 373, 265, 190, 285,\n",
       "       246, 644, 337, 161, 264, 562, 189, 363, 630, 652,  44, 478, 322,\n",
       "       176, 783, 597, 344, 339, 110, 334, 167, 204, 166, 816, 484, 177,\n",
       "       775, 366,  32, 480, 200, 408, 421, 247, 291, 261, 579, 244, 730,\n",
       "       324, 434, 525, 156, 153, 157,  95, 439, 286, 163, 197, 182, 309,\n",
       "       257, 283, 461, 824,  92, 704, 195, 170, 655, 121,  68, 332, 651,\n",
       "       504, 403, 263, 183, 440, 431, 185, 202, 105, 477, 746, 310, 622,\n",
       "       149, 698, 427, 847, 115, 620, 219, 846, 301,  40, 649, 481, 438,\n",
       "       215,  61, 531,  59, 643, 303, 117,  64, 168, 158, 338, 515, 516,\n",
       "        75, 779, 606, 355, 400, 743, 134,  53, 706, 321, 274, 578, 345,\n",
       "       270, 141,   1, 251, 575, 705,  81, 340, 192, 266, 262, 560, 276,\n",
       "       208, 243, 428, 375,  11, 180, 314,  99, 228, 774,  76, 518, 695,\n",
       "       209, 193, 206, 282, 861, 304, 828,  55, 284,  87, 210, 551, 135,\n",
       "       312, 587, 468, 557,  50, 406, 113, 329, 556, 764, 179, 239, 145,\n",
       "       249, 323,  41, 201,  33, 844, 221, 256, 212, 281, 450,  86, 580,\n",
       "       422, 385, 233, 514,  28, 268,  30, 795, 205,  57, 361, 860,   2,\n",
       "       327, 346, 132, 473,  63, 396, 657,  88, 647, 854,  73, 107, 126,\n",
       "       171, 581, 198,  24, 402, 325, 433, 269,  85, 646,  69, 605, 733,\n",
       "       488, 462, 805, 217, 745, 292, 151, 426, 127, 131, 351, 359, 240,\n",
       "       769, 789, 388, 503, 306, 313, 863, 866, 479, 547, 390,   5, 528,\n",
       "       341, 640, 648, 859, 625, 725, 567, 387, 669, 374, 225, 380, 496,\n",
       "       155, 506, 642, 722, 802,  56, 118, 553, 456, 333, 559, 714, 409,\n",
       "       791, 267, 806, 451, 415, 685, 558, 773, 383, 833, 467, 311, 534,\n",
       "         3, 459, 241, 819, 798,  52, 139, 104, 511, 455, 307, 624, 601,\n",
       "       494, 308, 458, 112, 842, 522, 555, 394, 275, 498, 768, 273, 694,\n",
       "       499, 381, 294, 708, 457, 146, 550, 845, 425, 297,   7, 871, 615,\n",
       "       752, 737, 543, 668,  60, 864, 124, 796, 829, 250, 280,  77, 674,\n",
       "       130, 412, 600, 483, 538, 588, 548, 475,  70, 372, 164, 418, 223,\n",
       "       712, 391, 279, 133, 751, 227, 464, 734, 106, 740, 857, 629, 436,\n",
       "       443, 253, 812, 853, 123, 577, 437, 778, 613, 386,  38, 399, 711,\n",
       "       376, 869, 827, 721,  43, 469, 776, 199, 398, 862, 735, 229, 680,\n",
       "       761, 780, 663, 686,  62, 870, 230,  14, 119,  42,  27,  17, 697,\n",
       "       781, 545, 521, 517, 675, 242, 485, 211, 618, 509, 128, 667,  21,\n",
       "       404, 108, 736, 603, 718, 218, 586, 831, 684, 658, 834, 826, 617,\n",
       "       144,  46, 463, 454, 786,  67,  10, 430, 493, 810, 710, 701, 784,\n",
       "       354, 799, 584, 688,  47, 868, 637, 593, 662, 492, 448, 681, 207,\n",
       "       726, 757, 825, 510, 739, 750, 277, 855, 654, 813, 673, 384, 460,\n",
       "       222, 410, 838, 628, 296, 621, 677, 732,   9, 319, 194, 417, 140,\n",
       "       632, 691, 659, 589, 741, 288, 814, 822,  71, 397, 382, 490, 554,\n",
       "       758, 392, 569,  22, 466, 542, 235, 541, 487, 565, 619, 544, 413,\n",
       "       650, 389, 476, 508, 728, 529, 793, 500, 537, 429, 636, 449, 772,\n",
       "       137, 762, 491, 566, 770, 850,  45, 856, 497, 664, 424, 785, 609,\n",
       "       830, 702,  39, 744, 626, 612, 563, 512, 634, 122, 447, 231, 717,\n",
       "       414, 627, 713, 486, 818, 672, 432, 709, 419, 598,  25, 787, 719,\n",
       "       614,  13, 582, 656, 471, 576, 696, 687, 162, 749, 777, 756, 489,\n",
       "       523, 811, 214, 377, 837,  18, 226, 804, 573, 416, 446, 797,  36,\n",
       "       520,   4,  66, 465, 792, 379, 639, 602, 754, 546, 401, 766, 635,\n",
       "        49, 840, 572, 858,  58, 821, 782, 771, 604, 731,  54, 608, 807,\n",
       "        23, 699, 851, 585, 693, 729, 616, 660, 820, 808, 841,  65, 765,\n",
       "       411, 607, 571, 763, 727,  72, 470, 803, 653,  16, 142, 539, 513,\n",
       "       843,  15, 742, 564, 552, 592, 638, 507, 676, 839, 549, 689, 590,\n",
       "        26, 809, 753, 723, 815, 788, 747, 420, 790, 524, 720, 683, 690,\n",
       "       519, 716, 835, 568, 623, 570, 444, 678,  48, 482, 535, 595, 836,\n",
       "       594, 707, 817, 502, 441,  34, 800, 533, 395,  20, 453, 832, 540,\n",
       "       849, 666, 495, 679, 865, 501, 393, 794,  51, 700, 703, 532, 715,\n",
       "       867, 692, 452, 823, 220,   0, 724])"
      ]
     },
     "execution_count": 22,
     "metadata": {},
     "output_type": "execute_result"
    }
   ],
   "source": [
    "train_data[\"pdays\"].unique()"
   ]
  },
  {
   "cell_type": "code",
   "execution_count": 23,
   "id": "7be7489f",
   "metadata": {
    "execution": {
     "iopub.execute_input": "2024-11-08T12:07:40.489643Z",
     "iopub.status.busy": "2024-11-08T12:07:40.489232Z",
     "iopub.status.idle": "2024-11-08T12:07:40.497885Z",
     "shell.execute_reply": "2024-11-08T12:07:40.496849Z"
    },
    "papermill": {
     "duration": 0.042091,
     "end_time": "2024-11-08T12:07:40.500109",
     "exception": false,
     "start_time": "2024-11-08T12:07:40.458018",
     "status": "completed"
    },
    "tags": []
   },
   "outputs": [
    {
     "data": {
      "text/plain": [
       "array([  1,   0,   4, 143, 234,   3,  18,   2, 225, 219,   6,  12,  16,\n",
       "       248, 217, 116,   8, 119,  37,  69, 113,  14, 265, 175, 103,  28,\n",
       "        86,   5, 196, 156, 207, 218, 148, 213,  87, 241,  60, 235, 172,\n",
       "       255, 266,  17, 135,  99,  20,   9, 270, 229, 188, 105, 141, 153,\n",
       "       131, 182, 223, 177,  70,  75,   7,  91, 236,  85, 100, 160,  30,\n",
       "        63, 178, 150,  72, 233,  40, 145, 272,  24, 249,  97, 193, 140,\n",
       "       222, 128,  90,  10, 155, 122, 134, 252, 117, 173, 203, 226,  23,\n",
       "       194, 208,  77, 274,  38, 273, 244,  15, 176,  96,  31, 133, 259,\n",
       "       191, 101, 197, 192, 152, 216, 204, 206,  71, 180, 250, 268, 144,\n",
       "        81, 110, 136,  43,  19,  74, 187, 205,  66, 269,  36, 166,  29,\n",
       "        53, 200, 261,  13,  61, 186,  62, 104, 138, 123,  78, 189, 147,\n",
       "       185, 179, 129, 190, 111, 139, 211, 245,  22,  51, 171,  26, 254,\n",
       "        84, 174,  46,  48,  58,  68, 228,  11,  80,  55, 107, 232, 202,\n",
       "       132, 264,  56, 260, 181,  32, 163,  94,  83,  54, 240, 154, 198,\n",
       "        49, 221, 242,  35, 120, 125, 243, 256, 146,  67, 124, 108, 169,\n",
       "        82,  39, 258, 112, 237, 114,  59,  42, 165, 199, 184,  92, 168,\n",
       "        21,  88,  33, 159, 183, 109,  65, 164, 215,  93, 246, 102,  95,\n",
       "       201, 162, 195,  41,  64, 157, 257, 263, 267, 126,  47, 212, 149,\n",
       "        52,  73, 239,  25, 118, 161,  27,  76, 121, 170, 230, 262,  89,\n",
       "       137, 220, 209,  57, 251, 247, 115,  34, 238, 271, 167,  98,  50,\n",
       "       142,  45, 227, 275, 106,  79, 210, 214,  44, 253, 224, 151, 231,\n",
       "       130, 158, 127])"
      ]
     },
     "execution_count": 23,
     "metadata": {},
     "output_type": "execute_result"
    }
   ],
   "source": [
    "train_data[\"previous\"].unique()"
   ]
  },
  {
   "cell_type": "code",
   "execution_count": 24,
   "id": "5423d0d3",
   "metadata": {
    "execution": {
     "iopub.execute_input": "2024-11-08T12:07:40.562422Z",
     "iopub.status.busy": "2024-11-08T12:07:40.561546Z",
     "iopub.status.idle": "2024-11-08T12:07:40.571525Z",
     "shell.execute_reply": "2024-11-08T12:07:40.570492Z"
    },
    "papermill": {
     "duration": 0.043794,
     "end_time": "2024-11-08T12:07:40.573901",
     "exception": false,
     "start_time": "2024-11-08T12:07:40.530107",
     "status": "completed"
    },
    "tags": []
   },
   "outputs": [
    {
     "data": {
      "text/plain": [
       "array(['other', nan, 'failure', 'success'], dtype=object)"
      ]
     },
     "execution_count": 24,
     "metadata": {},
     "output_type": "execute_result"
    }
   ],
   "source": [
    "train_data[\"poutcome\"].unique()"
   ]
  },
  {
   "cell_type": "code",
   "execution_count": 25,
   "id": "fb300657",
   "metadata": {
    "execution": {
     "iopub.execute_input": "2024-11-08T12:07:40.636447Z",
     "iopub.status.busy": "2024-11-08T12:07:40.635522Z",
     "iopub.status.idle": "2024-11-08T12:07:40.679846Z",
     "shell.execute_reply": "2024-11-08T12:07:40.678884Z"
    },
    "papermill": {
     "duration": 0.078035,
     "end_time": "2024-11-08T12:07:40.682160",
     "exception": false,
     "start_time": "2024-11-08T12:07:40.604125",
     "status": "completed"
    },
    "tags": []
   },
   "outputs": [
    {
     "data": {
      "text/plain": [
       "last contact date        0\n",
       "age                      0\n",
       "job                    229\n",
       "marital                  0\n",
       "education             1467\n",
       "default                  0\n",
       "balance                  0\n",
       "housing                  0\n",
       "loan                     0\n",
       "contact              10336\n",
       "duration                 0\n",
       "campaign                 0\n",
       "pdays                    0\n",
       "previous                 0\n",
       "poutcome             29451\n",
       "target                   0\n",
       "dtype: int64"
      ]
     },
     "execution_count": 25,
     "metadata": {},
     "output_type": "execute_result"
    }
   ],
   "source": [
    "train_data.isna().sum()"
   ]
  },
  {
   "cell_type": "code",
   "execution_count": 26,
   "id": "7e5721ab",
   "metadata": {
    "execution": {
     "iopub.execute_input": "2024-11-08T12:07:40.744533Z",
     "iopub.status.busy": "2024-11-08T12:07:40.744114Z",
     "iopub.status.idle": "2024-11-08T12:07:40.761502Z",
     "shell.execute_reply": "2024-11-08T12:07:40.760499Z"
    },
    "papermill": {
     "duration": 0.051496,
     "end_time": "2024-11-08T12:07:40.763781",
     "exception": false,
     "start_time": "2024-11-08T12:07:40.712285",
     "status": "completed"
    },
    "tags": []
   },
   "outputs": [
    {
     "data": {
      "text/plain": [
       "last contact date       0\n",
       "age                     0\n",
       "job                    59\n",
       "marital                 0\n",
       "education             390\n",
       "default                 0\n",
       "balance                 0\n",
       "housing                 0\n",
       "loan                    0\n",
       "contact              2684\n",
       "duration                0\n",
       "campaign                0\n",
       "pdays                   0\n",
       "previous                0\n",
       "poutcome             7508\n",
       "dtype: int64"
      ]
     },
     "execution_count": 26,
     "metadata": {},
     "output_type": "execute_result"
    }
   ],
   "source": [
    "test_data.isna().sum()"
   ]
  },
  {
   "cell_type": "markdown",
   "id": "2a8d9722",
   "metadata": {
    "papermill": {
     "duration": 0.030452,
     "end_time": "2024-11-08T12:07:40.824882",
     "exception": false,
     "start_time": "2024-11-08T12:07:40.794430",
     "status": "completed"
    },
    "tags": []
   },
   "source": [
    "## **4. Data Preprocessing**"
   ]
  },
  {
   "cell_type": "code",
   "execution_count": 27,
   "id": "5468f35c",
   "metadata": {
    "execution": {
     "iopub.execute_input": "2024-11-08T12:07:40.887525Z",
     "iopub.status.busy": "2024-11-08T12:07:40.887096Z",
     "iopub.status.idle": "2024-11-08T12:07:40.924160Z",
     "shell.execute_reply": "2024-11-08T12:07:40.923088Z"
    },
    "papermill": {
     "duration": 0.071333,
     "end_time": "2024-11-08T12:07:40.926604",
     "exception": false,
     "start_time": "2024-11-08T12:07:40.855271",
     "status": "completed"
    },
    "tags": []
   },
   "outputs": [
    {
     "data": {
      "text/html": [
       "<div>\n",
       "<style scoped>\n",
       "    .dataframe tbody tr th:only-of-type {\n",
       "        vertical-align: middle;\n",
       "    }\n",
       "\n",
       "    .dataframe tbody tr th {\n",
       "        vertical-align: top;\n",
       "    }\n",
       "\n",
       "    .dataframe thead th {\n",
       "        text-align: right;\n",
       "    }\n",
       "</style>\n",
       "<table border=\"1\" class=\"dataframe\">\n",
       "  <thead>\n",
       "    <tr style=\"text-align: right;\">\n",
       "      <th></th>\n",
       "      <th>last contact date</th>\n",
       "      <th>age</th>\n",
       "      <th>job</th>\n",
       "      <th>marital</th>\n",
       "      <th>education</th>\n",
       "      <th>balance</th>\n",
       "      <th>housing</th>\n",
       "      <th>loan</th>\n",
       "      <th>contact</th>\n",
       "      <th>duration</th>\n",
       "      <th>campaign</th>\n",
       "      <th>pdays</th>\n",
       "      <th>previous</th>\n",
       "      <th>poutcome</th>\n",
       "      <th>target</th>\n",
       "      <th>month</th>\n",
       "      <th>year</th>\n",
       "    </tr>\n",
       "  </thead>\n",
       "  <tbody>\n",
       "    <tr>\n",
       "      <th>0</th>\n",
       "      <td>2009-04-17</td>\n",
       "      <td>26</td>\n",
       "      <td>blue-collar</td>\n",
       "      <td>married</td>\n",
       "      <td>secondary</td>\n",
       "      <td>647</td>\n",
       "      <td>yes</td>\n",
       "      <td>no</td>\n",
       "      <td>cellular</td>\n",
       "      <td>357</td>\n",
       "      <td>2</td>\n",
       "      <td>331</td>\n",
       "      <td>1</td>\n",
       "      <td>other</td>\n",
       "      <td>no</td>\n",
       "      <td>4</td>\n",
       "      <td>2009</td>\n",
       "    </tr>\n",
       "    <tr>\n",
       "      <th>1</th>\n",
       "      <td>2009-10-11</td>\n",
       "      <td>52</td>\n",
       "      <td>technician</td>\n",
       "      <td>married</td>\n",
       "      <td>secondary</td>\n",
       "      <td>553</td>\n",
       "      <td>yes</td>\n",
       "      <td>no</td>\n",
       "      <td>telephone</td>\n",
       "      <td>160</td>\n",
       "      <td>1</td>\n",
       "      <td>-1</td>\n",
       "      <td>0</td>\n",
       "      <td>NaN</td>\n",
       "      <td>no</td>\n",
       "      <td>10</td>\n",
       "      <td>2009</td>\n",
       "    </tr>\n",
       "    <tr>\n",
       "      <th>2</th>\n",
       "      <td>2010-11-20</td>\n",
       "      <td>44</td>\n",
       "      <td>blue-collar</td>\n",
       "      <td>married</td>\n",
       "      <td>secondary</td>\n",
       "      <td>1397</td>\n",
       "      <td>no</td>\n",
       "      <td>no</td>\n",
       "      <td>cellular</td>\n",
       "      <td>326</td>\n",
       "      <td>1</td>\n",
       "      <td>-1</td>\n",
       "      <td>0</td>\n",
       "      <td>NaN</td>\n",
       "      <td>no</td>\n",
       "      <td>11</td>\n",
       "      <td>2010</td>\n",
       "    </tr>\n",
       "    <tr>\n",
       "      <th>3</th>\n",
       "      <td>2009-09-01</td>\n",
       "      <td>33</td>\n",
       "      <td>admin.</td>\n",
       "      <td>married</td>\n",
       "      <td>secondary</td>\n",
       "      <td>394</td>\n",
       "      <td>yes</td>\n",
       "      <td>no</td>\n",
       "      <td>telephone</td>\n",
       "      <td>104</td>\n",
       "      <td>3</td>\n",
       "      <td>-1</td>\n",
       "      <td>0</td>\n",
       "      <td>NaN</td>\n",
       "      <td>no</td>\n",
       "      <td>9</td>\n",
       "      <td>2009</td>\n",
       "    </tr>\n",
       "    <tr>\n",
       "      <th>4</th>\n",
       "      <td>2008-01-29</td>\n",
       "      <td>31</td>\n",
       "      <td>entrepreneur</td>\n",
       "      <td>single</td>\n",
       "      <td>tertiary</td>\n",
       "      <td>137</td>\n",
       "      <td>no</td>\n",
       "      <td>no</td>\n",
       "      <td>cellular</td>\n",
       "      <td>445</td>\n",
       "      <td>2</td>\n",
       "      <td>-1</td>\n",
       "      <td>0</td>\n",
       "      <td>NaN</td>\n",
       "      <td>no</td>\n",
       "      <td>1</td>\n",
       "      <td>2008</td>\n",
       "    </tr>\n",
       "  </tbody>\n",
       "</table>\n",
       "</div>"
      ],
      "text/plain": [
       "  last contact date  age           job  marital  education  balance housing  \\\n",
       "0        2009-04-17   26   blue-collar  married  secondary      647     yes   \n",
       "1        2009-10-11   52    technician  married  secondary      553     yes   \n",
       "2        2010-11-20   44   blue-collar  married  secondary     1397      no   \n",
       "3        2009-09-01   33        admin.  married  secondary      394     yes   \n",
       "4        2008-01-29   31  entrepreneur   single   tertiary      137      no   \n",
       "\n",
       "  loan    contact  duration  campaign  pdays  previous poutcome target  month  \\\n",
       "0   no   cellular       357         2    331         1    other     no      4   \n",
       "1   no  telephone       160         1     -1         0      NaN     no     10   \n",
       "2   no   cellular       326         1     -1         0      NaN     no     11   \n",
       "3   no  telephone       104         3     -1         0      NaN     no      9   \n",
       "4   no   cellular       445         2     -1         0      NaN     no      1   \n",
       "\n",
       "   year  \n",
       "0  2009  \n",
       "1  2009  \n",
       "2  2010  \n",
       "3  2009  \n",
       "4  2008  "
      ]
     },
     "execution_count": 27,
     "metadata": {},
     "output_type": "execute_result"
    }
   ],
   "source": [
    "train = train_data.drop(['default'], axis=1)\n",
    "test = test_data.drop(['default'], axis=1)\n",
    "train[\"month\"] = train_data[\"last contact date\"].dt.month\n",
    "train[\"year\"] = train_data[\"last contact date\"].dt.year\n",
    "test[\"month\"] = test[\"last contact date\"].dt.month\n",
    "test[\"year\"] = test[\"last contact date\"].dt.year\n",
    "train.head()"
   ]
  },
  {
   "cell_type": "code",
   "execution_count": 28,
   "id": "9dc8927d",
   "metadata": {
    "execution": {
     "iopub.execute_input": "2024-11-08T12:07:40.992330Z",
     "iopub.status.busy": "2024-11-08T12:07:40.991895Z",
     "iopub.status.idle": "2024-11-08T12:07:41.036549Z",
     "shell.execute_reply": "2024-11-08T12:07:41.035488Z"
    },
    "papermill": {
     "duration": 0.081705,
     "end_time": "2024-11-08T12:07:41.039447",
     "exception": false,
     "start_time": "2024-11-08T12:07:40.957742",
     "status": "completed"
    },
    "tags": []
   },
   "outputs": [
    {
     "name": "stdout",
     "output_type": "stream",
     "text": [
      "<class 'pandas.core.frame.DataFrame'>\n",
      "RangeIndex: 39211 entries, 0 to 39210\n",
      "Data columns (total 17 columns):\n",
      " #   Column             Non-Null Count  Dtype         \n",
      "---  ------             --------------  -----         \n",
      " 0   last contact date  39211 non-null  datetime64[ns]\n",
      " 1   age                39211 non-null  int64         \n",
      " 2   job                38982 non-null  object        \n",
      " 3   marital            39211 non-null  object        \n",
      " 4   education          37744 non-null  object        \n",
      " 5   balance            39211 non-null  int64         \n",
      " 6   housing            39211 non-null  object        \n",
      " 7   loan               39211 non-null  object        \n",
      " 8   contact            28875 non-null  object        \n",
      " 9   duration           39211 non-null  int64         \n",
      " 10  campaign           39211 non-null  int64         \n",
      " 11  pdays              39211 non-null  int64         \n",
      " 12  previous           39211 non-null  int64         \n",
      " 13  poutcome           9760 non-null   object        \n",
      " 14  target             39211 non-null  object        \n",
      " 15  month              39211 non-null  int32         \n",
      " 16  year               39211 non-null  int32         \n",
      "dtypes: datetime64[ns](1), int32(2), int64(6), object(8)\n",
      "memory usage: 4.8+ MB\n"
     ]
    }
   ],
   "source": [
    "train.info()"
   ]
  },
  {
   "cell_type": "code",
   "execution_count": 29,
   "id": "8e89d6a6",
   "metadata": {
    "execution": {
     "iopub.execute_input": "2024-11-08T12:07:41.104661Z",
     "iopub.status.busy": "2024-11-08T12:07:41.104225Z",
     "iopub.status.idle": "2024-11-08T12:07:41.298419Z",
     "shell.execute_reply": "2024-11-08T12:07:41.297138Z"
    },
    "papermill": {
     "duration": 0.230417,
     "end_time": "2024-11-08T12:07:41.302069",
     "exception": false,
     "start_time": "2024-11-08T12:07:41.071652",
     "status": "completed"
    },
    "tags": []
   },
   "outputs": [
    {
     "name": "stderr",
     "output_type": "stream",
     "text": [
      "/tmp/ipykernel_17/1016190148.py:1: FutureWarning: Downcasting behavior in `replace` is deprecated and will be removed in a future version. To retain the old behavior, explicitly call `result.infer_objects(copy=False)`. To opt-in to the future behavior, set `pd.set_option('future.no_silent_downcasting', True)`\n",
      "  train = train.replace({'no': 0, 'yes': 1}).infer_objects(copy=False)\n",
      "/tmp/ipykernel_17/1016190148.py:2: FutureWarning: Downcasting behavior in `replace` is deprecated and will be removed in a future version. To retain the old behavior, explicitly call `result.infer_objects(copy=False)`. To opt-in to the future behavior, set `pd.set_option('future.no_silent_downcasting', True)`\n",
      "  test = test.replace({'no': 0, 'yes': 1}).infer_objects(copy=False)\n"
     ]
    },
    {
     "data": {
      "text/html": [
       "<div>\n",
       "<style scoped>\n",
       "    .dataframe tbody tr th:only-of-type {\n",
       "        vertical-align: middle;\n",
       "    }\n",
       "\n",
       "    .dataframe tbody tr th {\n",
       "        vertical-align: top;\n",
       "    }\n",
       "\n",
       "    .dataframe thead th {\n",
       "        text-align: right;\n",
       "    }\n",
       "</style>\n",
       "<table border=\"1\" class=\"dataframe\">\n",
       "  <thead>\n",
       "    <tr style=\"text-align: right;\">\n",
       "      <th></th>\n",
       "      <th>last contact date</th>\n",
       "      <th>age</th>\n",
       "      <th>job</th>\n",
       "      <th>marital</th>\n",
       "      <th>education</th>\n",
       "      <th>balance</th>\n",
       "      <th>housing</th>\n",
       "      <th>loan</th>\n",
       "      <th>contact</th>\n",
       "      <th>duration</th>\n",
       "      <th>campaign</th>\n",
       "      <th>pdays</th>\n",
       "      <th>previous</th>\n",
       "      <th>poutcome</th>\n",
       "      <th>target</th>\n",
       "      <th>month</th>\n",
       "      <th>year</th>\n",
       "    </tr>\n",
       "  </thead>\n",
       "  <tbody>\n",
       "    <tr>\n",
       "      <th>0</th>\n",
       "      <td>2009-04-17</td>\n",
       "      <td>26</td>\n",
       "      <td>blue-collar</td>\n",
       "      <td>married</td>\n",
       "      <td>secondary</td>\n",
       "      <td>647</td>\n",
       "      <td>1</td>\n",
       "      <td>0</td>\n",
       "      <td>cellular</td>\n",
       "      <td>357</td>\n",
       "      <td>2</td>\n",
       "      <td>331</td>\n",
       "      <td>1</td>\n",
       "      <td>other</td>\n",
       "      <td>0</td>\n",
       "      <td>4</td>\n",
       "      <td>2009</td>\n",
       "    </tr>\n",
       "    <tr>\n",
       "      <th>1</th>\n",
       "      <td>2009-10-11</td>\n",
       "      <td>52</td>\n",
       "      <td>technician</td>\n",
       "      <td>married</td>\n",
       "      <td>secondary</td>\n",
       "      <td>553</td>\n",
       "      <td>1</td>\n",
       "      <td>0</td>\n",
       "      <td>telephone</td>\n",
       "      <td>160</td>\n",
       "      <td>1</td>\n",
       "      <td>-1</td>\n",
       "      <td>0</td>\n",
       "      <td>NaN</td>\n",
       "      <td>0</td>\n",
       "      <td>10</td>\n",
       "      <td>2009</td>\n",
       "    </tr>\n",
       "    <tr>\n",
       "      <th>2</th>\n",
       "      <td>2010-11-20</td>\n",
       "      <td>44</td>\n",
       "      <td>blue-collar</td>\n",
       "      <td>married</td>\n",
       "      <td>secondary</td>\n",
       "      <td>1397</td>\n",
       "      <td>0</td>\n",
       "      <td>0</td>\n",
       "      <td>cellular</td>\n",
       "      <td>326</td>\n",
       "      <td>1</td>\n",
       "      <td>-1</td>\n",
       "      <td>0</td>\n",
       "      <td>NaN</td>\n",
       "      <td>0</td>\n",
       "      <td>11</td>\n",
       "      <td>2010</td>\n",
       "    </tr>\n",
       "    <tr>\n",
       "      <th>3</th>\n",
       "      <td>2009-09-01</td>\n",
       "      <td>33</td>\n",
       "      <td>admin.</td>\n",
       "      <td>married</td>\n",
       "      <td>secondary</td>\n",
       "      <td>394</td>\n",
       "      <td>1</td>\n",
       "      <td>0</td>\n",
       "      <td>telephone</td>\n",
       "      <td>104</td>\n",
       "      <td>3</td>\n",
       "      <td>-1</td>\n",
       "      <td>0</td>\n",
       "      <td>NaN</td>\n",
       "      <td>0</td>\n",
       "      <td>9</td>\n",
       "      <td>2009</td>\n",
       "    </tr>\n",
       "    <tr>\n",
       "      <th>4</th>\n",
       "      <td>2008-01-29</td>\n",
       "      <td>31</td>\n",
       "      <td>entrepreneur</td>\n",
       "      <td>single</td>\n",
       "      <td>tertiary</td>\n",
       "      <td>137</td>\n",
       "      <td>0</td>\n",
       "      <td>0</td>\n",
       "      <td>cellular</td>\n",
       "      <td>445</td>\n",
       "      <td>2</td>\n",
       "      <td>-1</td>\n",
       "      <td>0</td>\n",
       "      <td>NaN</td>\n",
       "      <td>0</td>\n",
       "      <td>1</td>\n",
       "      <td>2008</td>\n",
       "    </tr>\n",
       "  </tbody>\n",
       "</table>\n",
       "</div>"
      ],
      "text/plain": [
       "  last contact date  age           job  marital  education  balance  housing  \\\n",
       "0        2009-04-17   26   blue-collar  married  secondary      647        1   \n",
       "1        2009-10-11   52    technician  married  secondary      553        1   \n",
       "2        2010-11-20   44   blue-collar  married  secondary     1397        0   \n",
       "3        2009-09-01   33        admin.  married  secondary      394        1   \n",
       "4        2008-01-29   31  entrepreneur   single   tertiary      137        0   \n",
       "\n",
       "   loan    contact  duration  campaign  pdays  previous poutcome  target  \\\n",
       "0     0   cellular       357         2    331         1    other       0   \n",
       "1     0  telephone       160         1     -1         0      NaN       0   \n",
       "2     0   cellular       326         1     -1         0      NaN       0   \n",
       "3     0  telephone       104         3     -1         0      NaN       0   \n",
       "4     0   cellular       445         2     -1         0      NaN       0   \n",
       "\n",
       "   month  year  \n",
       "0      4  2009  \n",
       "1     10  2009  \n",
       "2     11  2010  \n",
       "3      9  2009  \n",
       "4      1  2008  "
      ]
     },
     "execution_count": 29,
     "metadata": {},
     "output_type": "execute_result"
    }
   ],
   "source": [
    "train = train.replace({'no': 0, 'yes': 1}).infer_objects(copy=False)\n",
    "test = test.replace({'no': 0, 'yes': 1}).infer_objects(copy=False)\n",
    "train.head()"
   ]
  },
  {
   "cell_type": "code",
   "execution_count": 30,
   "id": "b0d49832",
   "metadata": {
    "execution": {
     "iopub.execute_input": "2024-11-08T12:07:41.369110Z",
     "iopub.status.busy": "2024-11-08T12:07:41.368693Z",
     "iopub.status.idle": "2024-11-08T12:07:43.219214Z",
     "shell.execute_reply": "2024-11-08T12:07:43.218062Z"
    },
    "papermill": {
     "duration": 1.888021,
     "end_time": "2024-11-08T12:07:43.223079",
     "exception": false,
     "start_time": "2024-11-08T12:07:41.335058",
     "status": "completed"
    },
    "tags": []
   },
   "outputs": [
    {
     "data": {
      "image/png": "[encoded data removed]",
      "text/plain": [
       "<Figure size 2000x2000 with 9 Axes>"
      ]
     },
     "metadata": {},
     "output_type": "display_data"
    }
   ],
   "source": [
    "categorical_columns = ['job', 'marital', 'education', 'housing', 'loan', 'contact', 'poutcome','month','year']\n",
    "\n",
    "fig, ax = plt.subplots(3, 3, sharex=False, sharey=False, figsize=(20, 20))\n",
    "\n",
    "counter = 0\n",
    "for column in categorical_columns:\n",
    "    trace_x = counter // 3\n",
    "    trace_y = counter % 3\n",
    "\n",
    "    counts = train[column].value_counts()\n",
    "    \n",
    "    x_pos = np.arange(0, len(counts))\n",
    "    \n",
    "    ax[trace_x, trace_y].bar(x_pos, counts.values, tick_label = counts.index)\n",
    "    ax[trace_x, trace_y].set_title(column)\n",
    "    \n",
    "    for tick in ax[trace_x, trace_y].get_xticklabels():\n",
    "        tick.set_rotation(90)\n",
    "    \n",
    "    counter += 1\n",
    "\n",
    "plt.show()"
   ]
  },
  {
   "cell_type": "code",
   "execution_count": 31,
   "id": "d5a00349",
   "metadata": {
    "execution": {
     "iopub.execute_input": "2024-11-08T12:07:43.293571Z",
     "iopub.status.busy": "2024-11-08T12:07:43.292870Z",
     "iopub.status.idle": "2024-11-08T12:07:44.672311Z",
     "shell.execute_reply": "2024-11-08T12:07:44.670987Z"
    },
    "papermill": {
     "duration": 1.418873,
     "end_time": "2024-11-08T12:07:44.675871",
     "exception": false,
     "start_time": "2024-11-08T12:07:43.256998",
     "status": "completed"
    },
    "tags": []
   },
   "outputs": [
    {
     "data": {
      "image/png": "[encoded data removed]",
      "text/plain": [
       "<Figure size 2000x2000 with 6 Axes>"
      ]
     },
     "metadata": {},
     "output_type": "display_data"
    }
   ],
   "source": [
    "numerical_columns = ['age','balance', 'duration', 'campaign', 'pdays', 'previous']\n",
    "\n",
    "fig, ax = plt.subplots(2, 3, sharex=False, sharey=False, figsize=(20, 20))\n",
    "\n",
    "counter = 0\n",
    "for column in numerical_columns:\n",
    "    \n",
    "    trace_x = counter // 3\n",
    "    trace_y = counter % 3\n",
    "    \n",
    "    ax[trace_x, trace_y].hist(train[column])\n",
    "    \n",
    "    ax[trace_x, trace_y].set_title(column)\n",
    "    \n",
    "    counter += 1\n",
    "\n",
    "plt.show()\n"
   ]
  },
  {
   "cell_type": "code",
   "execution_count": 32,
   "id": "41c2e9c8",
   "metadata": {
    "execution": {
     "iopub.execute_input": "2024-11-08T12:07:44.748909Z",
     "iopub.status.busy": "2024-11-08T12:07:44.747949Z",
     "iopub.status.idle": "2024-11-08T12:07:45.981792Z",
     "shell.execute_reply": "2024-11-08T12:07:45.980525Z"
    },
    "papermill": {
     "duration": 1.273251,
     "end_time": "2024-11-08T12:07:45.984603",
     "exception": false,
     "start_time": "2024-11-08T12:07:44.711352",
     "status": "completed"
    },
    "tags": []
   },
   "outputs": [
    {
     "name": "stdout",
     "output_type": "stream",
     "text": [
      "\n",
      "Null value count per column:\n",
      "last contact date        0\n",
      "age                      0\n",
      "job                    229\n",
      "marital                  0\n",
      "education             1467\n",
      "balance                  0\n",
      "housing                  0\n",
      "loan                     0\n",
      "contact              10336\n",
      "duration                 0\n",
      "campaign                 0\n",
      "pdays                    0\n",
      "previous                 0\n",
      "poutcome             29451\n",
      "target                   0\n",
      "month                    0\n",
      "year                     0\n",
      "dtype: int64\n"
     ]
    },
    {
     "data": {
      "image/png": "[encoded data removed]",
      "text/plain": [
       "<Figure size 1200x600 with 1 Axes>"
      ]
     },
     "metadata": {},
     "output_type": "display_data"
    }
   ],
   "source": [
    "print(\"\\nNull value count per column:\")\n",
    "print(train.isnull().sum())\n",
    "\n",
    "# Visualize missing values using a heatmap\n",
    "plt.figure(figsize=(12, 6))\n",
    "sns.heatmap(train.isnull(), cbar=False, cmap='viridis')\n",
    "plt.title(\"Missing Values Heatmap\")\n",
    "plt.show()"
   ]
  },
  {
   "cell_type": "code",
   "execution_count": 33,
   "id": "51c1058d",
   "metadata": {
    "execution": {
     "iopub.execute_input": "2024-11-08T12:07:46.060773Z",
     "iopub.status.busy": "2024-11-08T12:07:46.060289Z",
     "iopub.status.idle": "2024-11-08T12:07:46.089071Z",
     "shell.execute_reply": "2024-11-08T12:07:46.088058Z"
    },
    "papermill": {
     "duration": 0.068446,
     "end_time": "2024-11-08T12:07:46.091471",
     "exception": false,
     "start_time": "2024-11-08T12:07:46.023025",
     "status": "completed"
    },
    "tags": []
   },
   "outputs": [
    {
     "data": {
      "text/plain": [
       "last contact date        0\n",
       "age                      0\n",
       "job                    229\n",
       "marital                  0\n",
       "education             1467\n",
       "balance                  0\n",
       "housing                  0\n",
       "loan                     0\n",
       "contact              10336\n",
       "duration                 0\n",
       "campaign                 0\n",
       "pdays                    0\n",
       "previous                 0\n",
       "poutcome             29451\n",
       "target                   0\n",
       "month                    0\n",
       "year                     0\n",
       "dtype: int64"
      ]
     },
     "execution_count": 33,
     "metadata": {},
     "output_type": "execute_result"
    }
   ],
   "source": [
    "train.isnull().sum()"
   ]
  },
  {
   "cell_type": "code",
   "execution_count": 34,
   "id": "8d4b468a",
   "metadata": {
    "execution": {
     "iopub.execute_input": "2024-11-08T12:07:46.165935Z",
     "iopub.status.busy": "2024-11-08T12:07:46.165485Z",
     "iopub.status.idle": "2024-11-08T12:07:46.194440Z",
     "shell.execute_reply": "2024-11-08T12:07:46.193045Z"
    },
    "papermill": {
     "duration": 0.069312,
     "end_time": "2024-11-08T12:07:46.197081",
     "exception": false,
     "start_time": "2024-11-08T12:07:46.127769",
     "status": "completed"
    },
    "tags": []
   },
   "outputs": [
    {
     "name": "stdout",
     "output_type": "stream",
     "text": [
      "\n",
      "Percentage of missing values per column:\n",
      "last contact date     0.000000\n",
      "age                   0.000000\n",
      "job                   0.584020\n",
      "marital               0.000000\n",
      "education             3.741297\n",
      "balance               0.000000\n",
      "housing               0.000000\n",
      "loan                  0.000000\n",
      "contact              26.359950\n",
      "duration              0.000000\n",
      "campaign              0.000000\n",
      "pdays                 0.000000\n",
      "previous              0.000000\n",
      "poutcome             75.109026\n",
      "target                0.000000\n",
      "month                 0.000000\n",
      "year                  0.000000\n",
      "dtype: float64\n"
     ]
    }
   ],
   "source": [
    "missing_percentage = (train.isnull().sum() / len(train)) * 100\n",
    "print(\"\\nPercentage of missing values per column:\")\n",
    "print(missing_percentage)"
   ]
  },
  {
   "cell_type": "code",
   "execution_count": 35,
   "id": "edae7d9d",
   "metadata": {
    "execution": {
     "iopub.execute_input": "2024-11-08T12:07:46.272309Z",
     "iopub.status.busy": "2024-11-08T12:07:46.271231Z",
     "iopub.status.idle": "2024-11-08T12:07:46.276255Z",
     "shell.execute_reply": "2024-11-08T12:07:46.275146Z"
    },
    "papermill": {
     "duration": 0.045019,
     "end_time": "2024-11-08T12:07:46.278500",
     "exception": false,
     "start_time": "2024-11-08T12:07:46.233481",
     "status": "completed"
    },
    "tags": []
   },
   "outputs": [],
   "source": [
    "data = train"
   ]
  },
  {
   "cell_type": "code",
   "execution_count": 36,
   "id": "7ec8f92b",
   "metadata": {
    "execution": {
     "iopub.execute_input": "2024-11-08T12:07:46.353392Z",
     "iopub.status.busy": "2024-11-08T12:07:46.352576Z",
     "iopub.status.idle": "2024-11-08T12:07:46.641016Z",
     "shell.execute_reply": "2024-11-08T12:07:46.639793Z"
    },
    "papermill": {
     "duration": 0.328926,
     "end_time": "2024-11-08T12:07:46.643708",
     "exception": false,
     "start_time": "2024-11-08T12:07:46.314782",
     "status": "completed"
    },
    "tags": []
   },
   "outputs": [
    {
     "data": {
      "image/png": "[encoded data removed]",
      "text/plain": [
       "<Figure size 800x400 with 1 Axes>"
      ]
     },
     "metadata": {},
     "output_type": "display_data"
    }
   ],
   "source": [
    "# Visualize `poutcome` against the target variable\n",
    "plt.figure(figsize=(8, 4))\n",
    "sns.countplot(x='poutcome', hue='target', data=data, palette='Set2')\n",
    "plt.title(\"Distribution of `poutcome` against Target\")\n",
    "plt.show()\n"
   ]
  },
  {
   "cell_type": "code",
   "execution_count": 37,
   "id": "8388cf7c",
   "metadata": {
    "execution": {
     "iopub.execute_input": "2024-11-08T12:07:46.720312Z",
     "iopub.status.busy": "2024-11-08T12:07:46.719493Z",
     "iopub.status.idle": "2024-11-08T12:07:46.737882Z",
     "shell.execute_reply": "2024-11-08T12:07:46.736776Z"
    },
    "papermill": {
     "duration": 0.059667,
     "end_time": "2024-11-08T12:07:46.740499",
     "exception": false,
     "start_time": "2024-11-08T12:07:46.680832",
     "status": "completed"
    },
    "tags": []
   },
   "outputs": [
    {
     "name": "stdout",
     "output_type": "stream",
     "text": [
      "Correlation Matrix of poutcome categories with Target:\n",
      "target     1.000000\n",
      "success    0.303748\n",
      "other      0.120323\n",
      "Name: target, dtype: float64\n"
     ]
    }
   ],
   "source": [
    "# Convert 'poutcome' to dummy variables\n",
    "poutcome_dummies = pd.get_dummies(data['poutcome'], drop_first=True)\n",
    "# Append the target variable to check correlation\n",
    "poutcome_dummies['target'] = data['target'].replace({'yes': 1, 'no': 0})\n",
    "# Check correlation\n",
    "print(\"Correlation Matrix of poutcome categories with Target:\")\n",
    "print(poutcome_dummies.corr()['target'].sort_values(ascending=False))\n"
   ]
  },
  {
   "cell_type": "code",
   "execution_count": 38,
   "id": "828a4d12",
   "metadata": {
    "execution": {
     "iopub.execute_input": "2024-11-08T12:07:46.818139Z",
     "iopub.status.busy": "2024-11-08T12:07:46.817445Z",
     "iopub.status.idle": "2024-11-08T12:07:46.987889Z",
     "shell.execute_reply": "2024-11-08T12:07:46.986774Z"
    },
    "papermill": {
     "duration": 0.212909,
     "end_time": "2024-11-08T12:07:46.990387",
     "exception": false,
     "start_time": "2024-11-08T12:07:46.777478",
     "status": "completed"
    },
    "tags": []
   },
   "outputs": [
    {
     "name": "stdout",
     "output_type": "stream",
     "text": [
      "First few rows of the dataset:\n",
      "  last contact date  age           job  marital  education  balance  housing  \\\n",
      "0        2009-04-17   26   blue-collar  married  secondary      647        1   \n",
      "1        2009-10-11   52    technician  married  secondary      553        1   \n",
      "2        2010-11-20   44   blue-collar  married  secondary     1397        0   \n",
      "3        2009-09-01   33        admin.  married  secondary      394        1   \n",
      "4        2008-01-29   31  entrepreneur   single   tertiary      137        0   \n",
      "\n",
      "   loan    contact  duration  campaign  pdays  previous poutcome  target  \\\n",
      "0     0   cellular       357         2    331         1    other       0   \n",
      "1     0  telephone       160         1     -1         0      NaN       0   \n",
      "2     0   cellular       326         1     -1         0      NaN       0   \n",
      "3     0  telephone       104         3     -1         0      NaN       0   \n",
      "4     0   cellular       445         2     -1         0      NaN       0   \n",
      "\n",
      "   month  year  \n",
      "0      4  2009  \n",
      "1     10  2009  \n",
      "2     11  2010  \n",
      "3      9  2009  \n",
      "4      1  2008  \n",
      "\n",
      "Null value count per column:\n",
      "last contact date        0\n",
      "age                      0\n",
      "job                    229\n",
      "marital                  0\n",
      "education             1467\n",
      "balance                  0\n",
      "housing                  0\n",
      "loan                     0\n",
      "contact              10336\n",
      "duration                 0\n",
      "campaign                 0\n",
      "pdays                    0\n",
      "previous                 0\n",
      "poutcome             29451\n",
      "target                   0\n",
      "month                    0\n",
      "year                     0\n",
      "dtype: int64\n"
     ]
    }
   ],
   "source": [
    "from sklearn.feature_selection import chi2, f_classif\n",
    "# Display the first few rows\n",
    "print(\"First few rows of the dataset:\")\n",
    "print(data.head())\n",
    "\n",
    "# Check for missing values\n",
    "print(\"\\nNull value count per column:\")\n",
    "print(data.isnull().sum())\n",
    "\n",
    "# Convert datetime columns to numeric (year, month, day) if applicable\n",
    "for col in data.columns:\n",
    "    if np.issubdtype(data[col].dtype, np.datetime64):\n",
    "        data[col + \"_year\"] = data[col].dt.year\n",
    "        test[col + \"_year\"] = test[col].dt.year\n",
    "        data[col + \"_month\"] = data[col].dt.month\n",
    "        test[col + \"_month\"] = test[col].dt.month\n",
    "        data[col + \"_day\"] = data[col].dt.day\n",
    "        test[col + \"_day\"] = test[col].dt.day\n",
    "        data.drop(col, axis=1, inplace=True)\n",
    "        test.drop(col, axis=1, inplace=True)\n",
    "\n",
    "# Handling categorical variables\n",
    "categorical_cols = data.select_dtypes(include=['object']).columns\n",
    "data_encoded = data.copy()\n",
    "for col in categorical_cols:\n",
    "    data_encoded[col] = LabelEncoder().fit_transform(data_encoded[col].astype(str))\n",
    "\n",
    "test_categorical_cols = test.select_dtypes(include=['object']).columns\n",
    "# test_encoded = test.copy()\n",
    "for col in test_categorical_cols:\n",
    "    test[col] = LabelEncoder().fit_transform(test[col].astype(str))\n",
    "\n",
    "    \n",
    "# Separate features and target variable\n",
    "X = data_encoded.drop(\"target\", axis=1, errors='ignore')  # Adjust column name if needed\n",
    "y = data_encoded[\"target\"] if \"target\" in data_encoded.columns else None\n"
   ]
  },
  {
   "cell_type": "markdown",
   "id": "df4a6993",
   "metadata": {
    "papermill": {
     "duration": 0.037445,
     "end_time": "2024-11-08T12:07:47.067395",
     "exception": false,
     "start_time": "2024-11-08T12:07:47.029950",
     "status": "completed"
    },
    "tags": []
   },
   "source": [
    "### Handling Missing Values \n"
   ]
  },
  {
   "cell_type": "code",
   "execution_count": 39,
   "id": "fa5ce85b",
   "metadata": {
    "execution": {
     "iopub.execute_input": "2024-11-08T12:07:47.144614Z",
     "iopub.status.busy": "2024-11-08T12:07:47.144207Z",
     "iopub.status.idle": "2024-11-08T12:07:47.166684Z",
     "shell.execute_reply": "2024-11-08T12:07:47.165781Z"
    },
    "papermill": {
     "duration": 0.06396,
     "end_time": "2024-11-08T12:07:47.169398",
     "exception": false,
     "start_time": "2024-11-08T12:07:47.105438",
     "status": "completed"
    },
    "tags": []
   },
   "outputs": [],
   "source": [
    "# Impute missing values in X with the mean value\n",
    "imputer = SimpleImputer(strategy='mean')\n",
    "X = pd.DataFrame(imputer.fit_transform(X), columns=X.columns)"
   ]
  },
  {
   "cell_type": "markdown",
   "id": "373031f8",
   "metadata": {
    "papermill": {
     "duration": 0.036484,
     "end_time": "2024-11-08T12:07:47.243448",
     "exception": false,
     "start_time": "2024-11-08T12:07:47.206964",
     "status": "completed"
    },
    "tags": []
   },
   "source": [
    "## **5. Feature Engineering**\n"
   ]
  },
  {
   "cell_type": "code",
   "execution_count": 40,
   "id": "a3542ff8",
   "metadata": {
    "execution": {
     "iopub.execute_input": "2024-11-08T12:07:47.319575Z",
     "iopub.status.busy": "2024-11-08T12:07:47.319188Z",
     "iopub.status.idle": "2024-11-08T12:07:47.355120Z",
     "shell.execute_reply": "2024-11-08T12:07:47.353801Z"
    },
    "papermill": {
     "duration": 0.078687,
     "end_time": "2024-11-08T12:07:47.359498",
     "exception": false,
     "start_time": "2024-11-08T12:07:47.280811",
     "status": "completed"
    },
    "tags": []
   },
   "outputs": [
    {
     "name": "stdout",
     "output_type": "stream",
     "text": [
      "\n",
      "Top features using Chi-Square test:\n",
      "important_features ['balance', 'duration', 'campaign', 'pdays', 'previous']\n",
      "['age', 'job', 'marital', 'education', 'housing', 'loan', 'contact', 'poutcome', 'month', 'year', 'last contact date_year', 'last contact date_month', 'last contact date_day']\n"
     ]
    }
   ],
   "source": [
    "# ----------------- Feature Selection Using Chi-Square Test -----------------\n",
    "print(\"\\nTop features using Chi-Square test:\")\n",
    "\n",
    "# Handling missing values in X (necessary before scaling)\n",
    "# X = X.apply(lambda col: col.fillna(col.mean()) if col.dtype != 'object' else col)\n",
    "\n",
    "# Use MinMaxScaler to ensure values are non-negative for Chi-Square test\n",
    "X_scaled = MinMaxScaler().fit_transform(X)\n",
    "chi2_selector = SelectKBest(chi2, k='all')\n",
    "chi2_selector.fit(X_scaled, y)\n",
    "chi2_scores = pd.DataFrame({\"Feature\": X.columns, \"Chi2 Score\": chi2_selector.scores_})\n",
    "# print(chi2_scores.sort_values(\"Chi2 Score\", ascending=False))\n",
    "# Define a threshold for importance (mean score in this case)\n",
    "chi2_threshold = chi2_scores[\"Chi2 Score\"].mean()\n",
    "important_features_chi2 = chi2_scores[chi2_scores[\"Chi2 Score\"] > chi2_threshold][\"Feature\"].tolist()\n",
    "non_important_features_chi2 = chi2_scores[chi2_scores[\"Chi2 Score\"] <= chi2_threshold][\"Feature\"].tolist()\n",
    "print('important_features',important_features_chi2)\n",
    "print(non_important_features_chi2)"
   ]
  },
  {
   "cell_type": "code",
   "execution_count": 41,
   "id": "30b27ecf",
   "metadata": {
    "execution": {
     "iopub.execute_input": "2024-11-08T12:07:47.443145Z",
     "iopub.status.busy": "2024-11-08T12:07:47.442678Z",
     "iopub.status.idle": "2024-11-08T12:07:47.471049Z",
     "shell.execute_reply": "2024-11-08T12:07:47.469959Z"
    },
    "papermill": {
     "duration": 0.069544,
     "end_time": "2024-11-08T12:07:47.473608",
     "exception": false,
     "start_time": "2024-11-08T12:07:47.404064",
     "status": "completed"
    },
    "tags": []
   },
   "outputs": [
    {
     "name": "stdout",
     "output_type": "stream",
     "text": [
      "\n",
      "Top features using ANOVA F-test:\n",
      "important_features ['balance', 'duration', 'campaign', 'pdays', 'previous', 'poutcome']\n",
      "['age', 'job', 'marital', 'education', 'housing', 'loan', 'contact', 'month', 'year', 'last contact date_year', 'last contact date_month', 'last contact date_day']\n"
     ]
    }
   ],
   "source": [
    "# ----------------- Feature Selection Using ANOVA F-Test -----------------\n",
    "print(\"\\nTop features using ANOVA F-test:\")\n",
    "anova_selector = SelectKBest(f_classif, k='all')\n",
    "anova_selector.fit(X, y)\n",
    "anova_scores = pd.DataFrame({\"Feature\": X.columns, \"ANOVA F Score\": anova_selector.scores_})\n",
    "# print(anova_scores.sort_values(\"ANOVA F Score\", ascending=False))\n",
    "# Define a threshold for importance\n",
    "anova_threshold = anova_scores[\"ANOVA F Score\"].mean()\n",
    "important_features_anova = anova_scores[anova_scores[\"ANOVA F Score\"] > anova_threshold][\"Feature\"].tolist()\n",
    "non_important_features_anova = anova_scores[anova_scores[\"ANOVA F Score\"] <= anova_threshold][\"Feature\"].tolist()\n",
    "print('important_features',important_features_anova)\n",
    "print(non_important_features_anova)"
   ]
  },
  {
   "cell_type": "code",
   "execution_count": 42,
   "id": "727a19b5",
   "metadata": {
    "execution": {
     "iopub.execute_input": "2024-11-08T12:07:47.551180Z",
     "iopub.status.busy": "2024-11-08T12:07:47.550191Z",
     "iopub.status.idle": "2024-11-08T12:07:50.994509Z",
     "shell.execute_reply": "2024-11-08T12:07:50.993243Z"
    },
    "papermill": {
     "duration": 3.486028,
     "end_time": "2024-11-08T12:07:50.997311",
     "exception": false,
     "start_time": "2024-11-08T12:07:47.511283",
     "status": "completed"
    },
    "tags": []
   },
   "outputs": [
    {
     "name": "stdout",
     "output_type": "stream",
     "text": [
      "\n",
      "Top features using Mutual Information test:\n",
      "                    Feature  Mutual Info Score\n",
      "8                  duration           0.093021\n",
      "16  last contact date_month           0.053624\n",
      "13                    month           0.050241\n",
      "12                 poutcome           0.049919\n",
      "10                    pdays           0.047426\n",
      "4                   balance           0.045881\n",
      "11                 previous           0.041120\n",
      "7                   contact           0.024293\n",
      "1                       job           0.023628\n",
      "0                       age           0.023223\n",
      "9                  campaign           0.019856\n",
      "5                   housing           0.013918\n",
      "2                   marital           0.010046\n",
      "17    last contact date_day           0.007716\n",
      "15   last contact date_year           0.004896\n",
      "3                 education           0.003103\n",
      "14                     year           0.002875\n",
      "6                      loan           0.000000\n",
      "important_features ['duration', 'last contact date_month', 'month', 'poutcome', 'pdays', 'balance', 'previous']\n",
      "['contact', 'job', 'age', 'campaign', 'housing', 'marital', 'last contact date_day', 'last contact date_year', 'education', 'year', 'loan']\n"
     ]
    }
   ],
   "source": [
    "# ----------------- Feature Selection Using Mutual Information -----------------\n",
    "print(\"\\nTop features using Mutual Information test:\")\n",
    "mutual_info_selector = SelectKBest(mutual_info_classif, k='all')\n",
    "mutual_info_selector.fit(X, y)\n",
    "mutual_info_scores = pd.DataFrame({\"Feature\": X.columns, \"Mutual Info Score\": mutual_info_selector.scores_}).sort_values(by=\"Mutual Info Score\", ascending=False)\n",
    "print(mutual_info_scores)\n",
    "# Define a threshold for importance\n",
    "mutual_info_threshold = mutual_info_scores[\"Mutual Info Score\"].mean()\n",
    "important_features_mutual_info = mutual_info_scores[mutual_info_scores[\"Mutual Info Score\"] > mutual_info_threshold][\"Feature\"].tolist()\n",
    "non_important_features_mutual_info = mutual_info_scores[mutual_info_scores[\"Mutual Info Score\"] <= mutual_info_threshold][\"Feature\"].tolist()\n",
    "print('important_features',important_features_mutual_info)\n",
    "print(non_important_features_mutual_info)"
   ]
  },
  {
   "cell_type": "code",
   "execution_count": 43,
   "id": "9ae47d5b",
   "metadata": {
    "execution": {
     "iopub.execute_input": "2024-11-08T12:07:51.077232Z",
     "iopub.status.busy": "2024-11-08T12:07:51.076792Z",
     "iopub.status.idle": "2024-11-08T12:07:58.094488Z",
     "shell.execute_reply": "2024-11-08T12:07:58.093236Z"
    },
    "papermill": {
     "duration": 7.060397,
     "end_time": "2024-11-08T12:07:58.097073",
     "exception": false,
     "start_time": "2024-11-08T12:07:51.036676",
     "status": "completed"
    },
    "tags": []
   },
   "outputs": [
    {
     "name": "stdout",
     "output_type": "stream",
     "text": [
      "\n",
      "Top features using RandomForest Feature Importance:\n",
      "important_features ['age', 'balance', 'duration', 'pdays', 'previous', 'last contact date_day']\n",
      "['job', 'marital', 'education', 'housing', 'loan', 'contact', 'campaign', 'poutcome', 'month', 'year', 'last contact date_year', 'last contact date_month']\n"
     ]
    }
   ],
   "source": [
    "# ----------------- Feature Importance Using Random Forest -----------------\n",
    "print(\"\\nTop features using RandomForest Feature Importance:\")\n",
    "model = RandomForestClassifier(random_state=42)\n",
    "model.fit(X, y)\n",
    "importances = pd.DataFrame({\"Feature\": X.columns, \"Importance Score\": model.feature_importances_})\n",
    "# print(importances.sort_values(\"Importance Score\", ascending=False))\n",
    "# Define a threshold for importance\n",
    "rf_threshold = importances[\"Importance Score\"].mean()\n",
    "important_features_rf = importances[importances[\"Importance Score\"] > rf_threshold][\"Feature\"].tolist()\n",
    "non_important_features_rf = importances[importances[\"Importance Score\"] <= rf_threshold][\"Feature\"].tolist()\n",
    "print('important_features',important_features_rf)\n",
    "print(non_important_features_rf)"
   ]
  },
  {
   "cell_type": "code",
   "execution_count": 44,
   "id": "ae4cb23e",
   "metadata": {
    "execution": {
     "iopub.execute_input": "2024-11-08T12:07:58.174524Z",
     "iopub.status.busy": "2024-11-08T12:07:58.174131Z",
     "iopub.status.idle": "2024-11-08T12:07:58.726705Z",
     "shell.execute_reply": "2024-11-08T12:07:58.725280Z"
    },
    "papermill": {
     "duration": 0.594611,
     "end_time": "2024-11-08T12:07:58.729490",
     "exception": false,
     "start_time": "2024-11-08T12:07:58.134879",
     "status": "completed"
    },
    "tags": []
   },
   "outputs": [
    {
     "name": "stdout",
     "output_type": "stream",
     "text": [
      "\n",
      "Top features using PCA:\n",
      "important_features ['balance']\n",
      "['age', 'job', 'marital', 'education', 'housing', 'loan', 'contact', 'duration', 'campaign', 'pdays', 'previous', 'poutcome', 'month', 'year', 'last contact date_year', 'last contact date_month', 'last contact date_day']\n"
     ]
    }
   ],
   "source": [
    "# ----------------- Feature Importance Using PCA -----------------\n",
    "print(\"\\nTop features using PCA:\")\n",
    "pca = PCA(n_components=10)\n",
    "pca.fit(X)\n",
    "pca_importance = pd.DataFrame({\"Feature\": X.columns, \"PCA Score\": pca.components_[0]})\n",
    "# print(pca_importance.sort_values(\"PCA Score\", ascending=False))\n",
    "# Define a threshold for importance\n",
    "pca_threshold = np.mean(np.abs(pca_importance[\"PCA Score\"]))\n",
    "important_features_pca = pca_importance[np.abs(pca_importance[\"PCA Score\"]) > pca_threshold][\"Feature\"].tolist()\n",
    "non_important_features_pca = pca_importance[np.abs(pca_importance[\"PCA Score\"]) <= pca_threshold][\"Feature\"].tolist()\n",
    "print('important_features',important_features_pca)\n",
    "print(non_important_features_pca)"
   ]
  },
  {
   "cell_type": "code",
   "execution_count": 45,
   "id": "fc35eab0",
   "metadata": {
    "execution": {
     "iopub.execute_input": "2024-11-08T12:07:58.851472Z",
     "iopub.status.busy": "2024-11-08T12:07:58.851024Z",
     "iopub.status.idle": "2024-11-08T12:07:58.858886Z",
     "shell.execute_reply": "2024-11-08T12:07:58.857634Z"
    },
    "papermill": {
     "duration": 0.049909,
     "end_time": "2024-11-08T12:07:58.861949",
     "exception": false,
     "start_time": "2024-11-08T12:07:58.812040",
     "status": "completed"
    },
    "tags": []
   },
   "outputs": [
    {
     "name": "stdout",
     "output_type": "stream",
     "text": [
      "\n",
      "Important Features:\n",
      "['duration', 'last contact date_month', 'last contact date_day', 'age', 'month', 'poutcome', 'pdays', 'balance', 'campaign', 'previous']\n",
      "\n",
      "Non-Important Features:\n",
      "['job', 'last contact date_month', 'contact', 'year', 'age', 'marital', 'month', 'last contact date_day', 'duration', 'education', 'pdays', 'campaign', 'housing', 'last contact date_year', 'loan', 'poutcome', 'previous']\n"
     ]
    }
   ],
   "source": [
    "# Combine all important and non-important features\n",
    "all_important_features = set(\n",
    "    important_features_chi2 +\n",
    "    important_features_anova +\n",
    "    important_features_mutual_info +\n",
    "    important_features_rf +\n",
    "    important_features_pca\n",
    ")\n",
    "\n",
    "all_non_important_features = set(\n",
    "    non_important_features_chi2 +\n",
    "    non_important_features_anova +\n",
    "    non_important_features_mutual_info +\n",
    "    non_important_features_rf +\n",
    "    non_important_features_pca\n",
    ")\n",
    "# Convert sets to lists\n",
    "important_features_final = list(all_important_features)\n",
    "non_important_features_final = list(all_non_important_features)\n",
    "\n",
    "# Output the lists\n",
    "print(\"\\nImportant Features:\")\n",
    "print(important_features_final)\n",
    "\n",
    "print(\"\\nNon-Important Features:\")\n",
    "print(non_important_features_final)\n"
   ]
  },
  {
   "cell_type": "code",
   "execution_count": 46,
   "id": "27387489",
   "metadata": {
    "execution": {
     "iopub.execute_input": "2024-11-08T12:07:58.943159Z",
     "iopub.status.busy": "2024-11-08T12:07:58.942676Z",
     "iopub.status.idle": "2024-11-08T12:08:00.532306Z",
     "shell.execute_reply": "2024-11-08T12:08:00.531060Z"
    },
    "papermill": {
     "duration": 1.638415,
     "end_time": "2024-11-08T12:08:00.538889",
     "exception": false,
     "start_time": "2024-11-08T12:07:58.900474",
     "status": "completed"
    },
    "tags": []
   },
   "outputs": [
    {
     "data": {
      "image/png": "[encoded data removed]",
      "text/plain": [
       "<Figure size 1500x1000 with 2 Axes>"
      ]
     },
     "metadata": {},
     "output_type": "display_data"
    },
    {
     "name": "stdout",
     "output_type": "stream",
     "text": [
      "\n",
      "Correlation of features with the target variable:\n",
      "target                     1.000000\n",
      "duration                   0.343325\n",
      "previous                   0.263123\n",
      "pdays                      0.258120\n",
      "balance                    0.257863\n",
      "poutcome                   0.236922\n",
      "campaign                   0.217205\n",
      "age                        0.111939\n",
      "job                        0.076101\n",
      "month                      0.046564\n",
      "last contact date_month    0.046564\n",
      "education                  0.039074\n",
      "loan                       0.021935\n",
      "marital                    0.011970\n",
      "year                       0.001874\n",
      "last contact date_year     0.001874\n",
      "contact                   -0.010515\n",
      "last contact date_day     -0.022695\n",
      "housing                   -0.129245\n",
      "Name: target, dtype: float64\n"
     ]
    }
   ],
   "source": [
    "# Check the correlation of features with the target variable\n",
    "plt.figure(figsize=(15, 10))\n",
    "correlation = data_encoded.corr()\n",
    "sns.heatmap(correlation, annot=True, cmap='coolwarm', linewidths=0.5,fmt='.3f')\n",
    "plt.title(\"Correlation Matrix\")\n",
    "plt.show()\n",
    "\n",
    "# Display the most correlated features\n",
    "print(\"\\nCorrelation of features with the target variable:\")\n",
    "if y is not None:\n",
    "    print(correlation[\"target\"].sort_values(ascending=False))"
   ]
  },
  {
   "cell_type": "code",
   "execution_count": 47,
   "id": "48d95afb",
   "metadata": {
    "execution": {
     "iopub.execute_input": "2024-11-08T12:08:00.629623Z",
     "iopub.status.busy": "2024-11-08T12:08:00.628870Z",
     "iopub.status.idle": "2024-11-08T12:08:00.653308Z",
     "shell.execute_reply": "2024-11-08T12:08:00.652076Z"
    },
    "papermill": {
     "duration": 0.072225,
     "end_time": "2024-11-08T12:08:00.655871",
     "exception": false,
     "start_time": "2024-11-08T12:08:00.583646",
     "status": "completed"
    },
    "tags": []
   },
   "outputs": [
    {
     "name": "stdout",
     "output_type": "stream",
     "text": [
      "(39211, 9)\n"
     ]
    },
    {
     "data": {
      "text/html": [
       "<div>\n",
       "<style scoped>\n",
       "    .dataframe tbody tr th:only-of-type {\n",
       "        vertical-align: middle;\n",
       "    }\n",
       "\n",
       "    .dataframe tbody tr th {\n",
       "        vertical-align: top;\n",
       "    }\n",
       "\n",
       "    .dataframe thead th {\n",
       "        text-align: right;\n",
       "    }\n",
       "</style>\n",
       "<table border=\"1\" class=\"dataframe\">\n",
       "  <thead>\n",
       "    <tr style=\"text-align: right;\">\n",
       "      <th></th>\n",
       "      <th>duration</th>\n",
       "      <th>last contact date_month</th>\n",
       "      <th>last contact date_day</th>\n",
       "      <th>age</th>\n",
       "      <th>poutcome</th>\n",
       "      <th>pdays</th>\n",
       "      <th>balance</th>\n",
       "      <th>campaign</th>\n",
       "      <th>previous</th>\n",
       "    </tr>\n",
       "  </thead>\n",
       "  <tbody>\n",
       "    <tr>\n",
       "      <th>0</th>\n",
       "      <td>357.0</td>\n",
       "      <td>4.0</td>\n",
       "      <td>17.0</td>\n",
       "      <td>26.0</td>\n",
       "      <td>2.0</td>\n",
       "      <td>331.0</td>\n",
       "      <td>647.0</td>\n",
       "      <td>2.0</td>\n",
       "      <td>1.0</td>\n",
       "    </tr>\n",
       "    <tr>\n",
       "      <th>1</th>\n",
       "      <td>160.0</td>\n",
       "      <td>10.0</td>\n",
       "      <td>11.0</td>\n",
       "      <td>52.0</td>\n",
       "      <td>1.0</td>\n",
       "      <td>-1.0</td>\n",
       "      <td>553.0</td>\n",
       "      <td>1.0</td>\n",
       "      <td>0.0</td>\n",
       "    </tr>\n",
       "    <tr>\n",
       "      <th>2</th>\n",
       "      <td>326.0</td>\n",
       "      <td>11.0</td>\n",
       "      <td>20.0</td>\n",
       "      <td>44.0</td>\n",
       "      <td>1.0</td>\n",
       "      <td>-1.0</td>\n",
       "      <td>1397.0</td>\n",
       "      <td>1.0</td>\n",
       "      <td>0.0</td>\n",
       "    </tr>\n",
       "    <tr>\n",
       "      <th>3</th>\n",
       "      <td>104.0</td>\n",
       "      <td>9.0</td>\n",
       "      <td>1.0</td>\n",
       "      <td>33.0</td>\n",
       "      <td>1.0</td>\n",
       "      <td>-1.0</td>\n",
       "      <td>394.0</td>\n",
       "      <td>3.0</td>\n",
       "      <td>0.0</td>\n",
       "    </tr>\n",
       "    <tr>\n",
       "      <th>4</th>\n",
       "      <td>445.0</td>\n",
       "      <td>1.0</td>\n",
       "      <td>29.0</td>\n",
       "      <td>31.0</td>\n",
       "      <td>1.0</td>\n",
       "      <td>-1.0</td>\n",
       "      <td>137.0</td>\n",
       "      <td>2.0</td>\n",
       "      <td>0.0</td>\n",
       "    </tr>\n",
       "  </tbody>\n",
       "</table>\n",
       "</div>"
      ],
      "text/plain": [
       "   duration  last contact date_month  last contact date_day   age  poutcome  \\\n",
       "0     357.0                      4.0                   17.0  26.0       2.0   \n",
       "1     160.0                     10.0                   11.0  52.0       1.0   \n",
       "2     326.0                     11.0                   20.0  44.0       1.0   \n",
       "3     104.0                      9.0                    1.0  33.0       1.0   \n",
       "4     445.0                      1.0                   29.0  31.0       1.0   \n",
       "\n",
       "   pdays  balance  campaign  previous  \n",
       "0  331.0    647.0       2.0       1.0  \n",
       "1   -1.0    553.0       1.0       0.0  \n",
       "2   -1.0   1397.0       1.0       0.0  \n",
       "3   -1.0    394.0       3.0       0.0  \n",
       "4   -1.0    137.0       2.0       0.0  "
      ]
     },
     "execution_count": 47,
     "metadata": {},
     "output_type": "execute_result"
    }
   ],
   "source": [
    "if 'month' in important_features_final:\n",
    "    important_features_final.remove('month') \n",
    "\n",
    "X = X[important_features_final]\n",
    "test = test[important_features_final]\n",
    "print(X.shape)\n",
    "X.head()"
   ]
  },
  {
   "cell_type": "code",
   "execution_count": 48,
   "id": "eb739c0f",
   "metadata": {
    "execution": {
     "iopub.execute_input": "2024-11-08T12:08:00.747215Z",
     "iopub.status.busy": "2024-11-08T12:08:00.746150Z",
     "iopub.status.idle": "2024-11-08T12:08:00.811986Z",
     "shell.execute_reply": "2024-11-08T12:08:00.810791Z"
    },
    "papermill": {
     "duration": 0.114281,
     "end_time": "2024-11-08T12:08:00.814446",
     "exception": false,
     "start_time": "2024-11-08T12:08:00.700165",
     "status": "completed"
    },
    "tags": []
   },
   "outputs": [
    {
     "name": "stdout",
     "output_type": "stream",
     "text": [
      "(39211, 9)\n"
     ]
    },
    {
     "data": {
      "text/html": [
       "<div>\n",
       "<style scoped>\n",
       "    .dataframe tbody tr th:only-of-type {\n",
       "        vertical-align: middle;\n",
       "    }\n",
       "\n",
       "    .dataframe tbody tr th {\n",
       "        vertical-align: top;\n",
       "    }\n",
       "\n",
       "    .dataframe thead th {\n",
       "        text-align: right;\n",
       "    }\n",
       "</style>\n",
       "<table border=\"1\" class=\"dataframe\">\n",
       "  <thead>\n",
       "    <tr style=\"text-align: right;\">\n",
       "      <th></th>\n",
       "      <th>duration</th>\n",
       "      <th>last contact date_month</th>\n",
       "      <th>last contact date_day</th>\n",
       "      <th>age</th>\n",
       "      <th>poutcome</th>\n",
       "      <th>pdays</th>\n",
       "      <th>balance</th>\n",
       "      <th>campaign</th>\n",
       "      <th>previous</th>\n",
       "    </tr>\n",
       "  </thead>\n",
       "  <tbody>\n",
       "    <tr>\n",
       "      <th>0</th>\n",
       "      <td>357.0</td>\n",
       "      <td>4.0</td>\n",
       "      <td>17.0</td>\n",
       "      <td>26.0</td>\n",
       "      <td>2.0</td>\n",
       "      <td>331.0</td>\n",
       "      <td>647.0</td>\n",
       "      <td>2.0</td>\n",
       "      <td>1.0</td>\n",
       "    </tr>\n",
       "    <tr>\n",
       "      <th>1</th>\n",
       "      <td>160.0</td>\n",
       "      <td>10.0</td>\n",
       "      <td>11.0</td>\n",
       "      <td>52.0</td>\n",
       "      <td>1.0</td>\n",
       "      <td>-1.0</td>\n",
       "      <td>553.0</td>\n",
       "      <td>1.0</td>\n",
       "      <td>0.0</td>\n",
       "    </tr>\n",
       "    <tr>\n",
       "      <th>2</th>\n",
       "      <td>326.0</td>\n",
       "      <td>11.0</td>\n",
       "      <td>20.0</td>\n",
       "      <td>44.0</td>\n",
       "      <td>1.0</td>\n",
       "      <td>-1.0</td>\n",
       "      <td>1397.0</td>\n",
       "      <td>1.0</td>\n",
       "      <td>0.0</td>\n",
       "    </tr>\n",
       "    <tr>\n",
       "      <th>3</th>\n",
       "      <td>104.0</td>\n",
       "      <td>9.0</td>\n",
       "      <td>3.0</td>\n",
       "      <td>33.0</td>\n",
       "      <td>1.0</td>\n",
       "      <td>-1.0</td>\n",
       "      <td>394.0</td>\n",
       "      <td>3.0</td>\n",
       "      <td>0.0</td>\n",
       "    </tr>\n",
       "    <tr>\n",
       "      <th>4</th>\n",
       "      <td>445.0</td>\n",
       "      <td>2.0</td>\n",
       "      <td>29.0</td>\n",
       "      <td>31.0</td>\n",
       "      <td>1.0</td>\n",
       "      <td>-1.0</td>\n",
       "      <td>137.0</td>\n",
       "      <td>2.0</td>\n",
       "      <td>0.0</td>\n",
       "    </tr>\n",
       "  </tbody>\n",
       "</table>\n",
       "</div>"
      ],
      "text/plain": [
       "   duration  last contact date_month  last contact date_day   age  poutcome  \\\n",
       "0     357.0                      4.0                   17.0  26.0       2.0   \n",
       "1     160.0                     10.0                   11.0  52.0       1.0   \n",
       "2     326.0                     11.0                   20.0  44.0       1.0   \n",
       "3     104.0                      9.0                    3.0  33.0       1.0   \n",
       "4     445.0                      2.0                   29.0  31.0       1.0   \n",
       "\n",
       "   pdays  balance  campaign  previous  \n",
       "0  331.0    647.0       2.0       1.0  \n",
       "1   -1.0    553.0       1.0       0.0  \n",
       "2   -1.0   1397.0       1.0       0.0  \n",
       "3   -1.0    394.0       3.0       0.0  \n",
       "4   -1.0    137.0       2.0       0.0  "
      ]
     },
     "execution_count": 48,
     "metadata": {},
     "output_type": "execute_result"
    }
   ],
   "source": [
    "# Define a Winsorization function\n",
    "def winsorize_series(series, upper_quantile=0.95, lower_quantile=0.05):\n",
    "    upper_lim = series.quantile(upper_quantile)\n",
    "    lower_lim = series.quantile(lower_quantile)\n",
    "    series = series.clip(lower=lower_lim, upper=upper_lim)\n",
    "    return series\n",
    "\n",
    "# X['previous'] = winsorize_series(X['previous'])\n",
    "# X['campaign'] = winsorize_series(X['campaign'])\n",
    "\n",
    "# Optional: Apply to all numeric columns if needed\n",
    "numeric_cols = X.select_dtypes(include=[np.number]).columns\n",
    "for col in numeric_cols:\n",
    "    X[col] = winsorize_series(X[col])\n",
    "\n",
    "# Check the changes\n",
    "print(X.shape)\n",
    "X.head()\n"
   ]
  },
  {
   "cell_type": "code",
   "execution_count": 49,
   "id": "8af2684f",
   "metadata": {
    "execution": {
     "iopub.execute_input": "2024-11-08T12:08:00.904966Z",
     "iopub.status.busy": "2024-11-08T12:08:00.904449Z",
     "iopub.status.idle": "2024-11-08T12:08:00.921455Z",
     "shell.execute_reply": "2024-11-08T12:08:00.920499Z"
    },
    "papermill": {
     "duration": 0.065659,
     "end_time": "2024-11-08T12:08:00.924447",
     "exception": false,
     "start_time": "2024-11-08T12:08:00.858788",
     "status": "completed"
    },
    "tags": []
   },
   "outputs": [],
   "source": [
    "std_scaler = StandardScaler()\n",
    "X = pd.DataFrame(std_scaler.fit_transform(X), index=X.index, columns=X.columns)\n",
    "test = pd.DataFrame(std_scaler.transform(test), index=test.index, columns=test.columns)"
   ]
  },
  {
   "cell_type": "code",
   "execution_count": 50,
   "id": "118e6b85",
   "metadata": {
    "execution": {
     "iopub.execute_input": "2024-11-08T12:08:01.016695Z",
     "iopub.status.busy": "2024-11-08T12:08:01.016247Z",
     "iopub.status.idle": "2024-11-08T12:08:01.033534Z",
     "shell.execute_reply": "2024-11-08T12:08:01.032519Z"
    },
    "papermill": {
     "duration": 0.066291,
     "end_time": "2024-11-08T12:08:01.035941",
     "exception": false,
     "start_time": "2024-11-08T12:08:00.969650",
     "status": "completed"
    },
    "tags": []
   },
   "outputs": [
    {
     "data": {
      "text/html": [
       "<div>\n",
       "<style scoped>\n",
       "    .dataframe tbody tr th:only-of-type {\n",
       "        vertical-align: middle;\n",
       "    }\n",
       "\n",
       "    .dataframe tbody tr th {\n",
       "        vertical-align: top;\n",
       "    }\n",
       "\n",
       "    .dataframe thead th {\n",
       "        text-align: right;\n",
       "    }\n",
       "</style>\n",
       "<table border=\"1\" class=\"dataframe\">\n",
       "  <thead>\n",
       "    <tr style=\"text-align: right;\">\n",
       "      <th></th>\n",
       "      <th>duration</th>\n",
       "      <th>last contact date_month</th>\n",
       "      <th>last contact date_day</th>\n",
       "      <th>age</th>\n",
       "      <th>poutcome</th>\n",
       "      <th>pdays</th>\n",
       "      <th>balance</th>\n",
       "      <th>campaign</th>\n",
       "      <th>previous</th>\n",
       "    </tr>\n",
       "  </thead>\n",
       "  <tbody>\n",
       "    <tr>\n",
       "      <th>0</th>\n",
       "      <td>-0.024674</td>\n",
       "      <td>-0.902849</td>\n",
       "      <td>0.149632</td>\n",
       "      <td>-1.441664</td>\n",
       "      <td>1.462972</td>\n",
       "      <td>2.200907</td>\n",
       "      <td>-0.339586</td>\n",
       "      <td>-0.362423</td>\n",
       "      <td>-0.259859</td>\n",
       "    </tr>\n",
       "    <tr>\n",
       "      <th>1</th>\n",
       "      <td>-0.439446</td>\n",
       "      <td>1.508513</td>\n",
       "      <td>-0.584336</td>\n",
       "      <td>0.964144</td>\n",
       "      <td>-0.083327</td>\n",
       "      <td>-0.505440</td>\n",
       "      <td>-0.349447</td>\n",
       "      <td>-0.526830</td>\n",
       "      <td>-0.299625</td>\n",
       "    </tr>\n",
       "    <tr>\n",
       "      <th>2</th>\n",
       "      <td>-0.089942</td>\n",
       "      <td>1.910407</td>\n",
       "      <td>0.516616</td>\n",
       "      <td>0.223895</td>\n",
       "      <td>-0.083327</td>\n",
       "      <td>-0.505440</td>\n",
       "      <td>-0.260906</td>\n",
       "      <td>-0.526830</td>\n",
       "      <td>-0.299625</td>\n",
       "    </tr>\n",
       "    <tr>\n",
       "      <th>3</th>\n",
       "      <td>-0.557350</td>\n",
       "      <td>1.106620</td>\n",
       "      <td>-1.562960</td>\n",
       "      <td>-0.793946</td>\n",
       "      <td>-0.083327</td>\n",
       "      <td>-0.505440</td>\n",
       "      <td>-0.366127</td>\n",
       "      <td>-0.198017</td>\n",
       "      <td>-0.299625</td>\n",
       "    </tr>\n",
       "    <tr>\n",
       "      <th>4</th>\n",
       "      <td>0.160605</td>\n",
       "      <td>-1.706636</td>\n",
       "      <td>1.617567</td>\n",
       "      <td>-0.979009</td>\n",
       "      <td>-0.083327</td>\n",
       "      <td>-0.505440</td>\n",
       "      <td>-0.393088</td>\n",
       "      <td>-0.362423</td>\n",
       "      <td>-0.299625</td>\n",
       "    </tr>\n",
       "  </tbody>\n",
       "</table>\n",
       "</div>"
      ],
      "text/plain": [
       "   duration  last contact date_month  last contact date_day       age  \\\n",
       "0 -0.024674                -0.902849               0.149632 -1.441664   \n",
       "1 -0.439446                 1.508513              -0.584336  0.964144   \n",
       "2 -0.089942                 1.910407               0.516616  0.223895   \n",
       "3 -0.557350                 1.106620              -1.562960 -0.793946   \n",
       "4  0.160605                -1.706636               1.617567 -0.979009   \n",
       "\n",
       "   poutcome     pdays   balance  campaign  previous  \n",
       "0  1.462972  2.200907 -0.339586 -0.362423 -0.259859  \n",
       "1 -0.083327 -0.505440 -0.349447 -0.526830 -0.299625  \n",
       "2 -0.083327 -0.505440 -0.260906 -0.526830 -0.299625  \n",
       "3 -0.083327 -0.505440 -0.366127 -0.198017 -0.299625  \n",
       "4 -0.083327 -0.505440 -0.393088 -0.362423 -0.299625  "
      ]
     },
     "execution_count": 50,
     "metadata": {},
     "output_type": "execute_result"
    }
   ],
   "source": [
    "X.head()"
   ]
  },
  {
   "cell_type": "markdown",
   "id": "e682d13a",
   "metadata": {
    "papermill": {
     "duration": 0.044629,
     "end_time": "2024-11-08T12:08:01.127692",
     "exception": false,
     "start_time": "2024-11-08T12:08:01.083063",
     "status": "completed"
    },
    "tags": []
   },
   "source": [
    "## **6. Model**"
   ]
  },
  {
   "cell_type": "code",
   "execution_count": 51,
   "id": "23cce076",
   "metadata": {
    "execution": {
     "iopub.execute_input": "2024-11-08T12:08:01.218929Z",
     "iopub.status.busy": "2024-11-08T12:08:01.218466Z",
     "iopub.status.idle": "2024-11-08T12:08:01.230951Z",
     "shell.execute_reply": "2024-11-08T12:08:01.230037Z"
    },
    "papermill": {
     "duration": 0.061165,
     "end_time": "2024-11-08T12:08:01.233573",
     "exception": false,
     "start_time": "2024-11-08T12:08:01.172408",
     "status": "completed"
    },
    "tags": []
   },
   "outputs": [],
   "source": [
    "X_train, X_test, y_train, y_test = train_test_split(X, y, test_size=0.20, \n",
    "                                                    random_state=0)"
   ]
  },
  {
   "cell_type": "markdown",
   "id": "41558aa8",
   "metadata": {
    "papermill": {
     "duration": 0.044947,
     "end_time": "2024-11-08T12:08:01.323344",
     "exception": false,
     "start_time": "2024-11-08T12:08:01.278397",
     "status": "completed"
    },
    "tags": []
   },
   "source": [
    "### Logistic Regression"
   ]
  },
  {
   "cell_type": "code",
   "execution_count": 52,
   "id": "5e6ae7bf",
   "metadata": {
    "execution": {
     "iopub.execute_input": "2024-11-08T12:08:01.413473Z",
     "iopub.status.busy": "2024-11-08T12:08:01.413045Z",
     "iopub.status.idle": "2024-11-08T12:08:08.852949Z",
     "shell.execute_reply": "2024-11-08T12:08:08.851776Z"
    },
    "papermill": {
     "duration": 7.487654,
     "end_time": "2024-11-08T12:08:08.855234",
     "exception": false,
     "start_time": "2024-11-08T12:08:01.367580",
     "status": "completed"
    },
    "tags": []
   },
   "outputs": [
    {
     "data": {
      "text/html": [
       "<style>#sk-container-id-1 {color: black;background-color: white;}#sk-container-id-1 pre{padding: 0;}#sk-container-id-1 div.sk-toggleable {background-color: white;}#sk-container-id-1 label.sk-toggleable__label {cursor: pointer;display: block;width: 100%;margin-bottom: 0;padding: 0.3em;box-sizing: border-box;text-align: center;}#sk-container-id-1 label.sk-toggleable__label-arrow:before {content: \"▸\";float: left;margin-right: 0.25em;color: #696969;}#sk-container-id-1 label.sk-toggleable__label-arrow:hover:before {color: black;}#sk-container-id-1 div.sk-estimator:hover label.sk-toggleable__label-arrow:before {color: black;}#sk-container-id-1 div.sk-toggleable__content {max-height: 0;max-width: 0;overflow: hidden;text-align: left;background-color: #f0f8ff;}#sk-container-id-1 div.sk-toggleable__content pre {margin: 0.2em;color: black;border-radius: 0.25em;background-color: #f0f8ff;}#sk-container-id-1 input.sk-toggleable__control:checked~div.sk-toggleable__content {max-height: 200px;max-width: 100%;overflow: auto;}#sk-container-id-1 input.sk-toggleable__control:checked~label.sk-toggleable__label-arrow:before {content: \"▾\";}#sk-container-id-1 div.sk-estimator input.sk-toggleable__control:checked~label.sk-toggleable__label {background-color: #d4ebff;}#sk-container-id-1 div.sk-label input.sk-toggleable__control:checked~label.sk-toggleable__label {background-color: #d4ebff;}#sk-container-id-1 input.sk-hidden--visually {border: 0;clip: rect(1px 1px 1px 1px);clip: rect(1px, 1px, 1px, 1px);height: 1px;margin: -1px;overflow: hidden;padding: 0;position: absolute;width: 1px;}#sk-container-id-1 div.sk-estimator {font-family: monospace;background-color: #f0f8ff;border: 1px dotted black;border-radius: 0.25em;box-sizing: border-box;margin-bottom: 0.5em;}#sk-container-id-1 div.sk-estimator:hover {background-color: #d4ebff;}#sk-container-id-1 div.sk-parallel-item::after {content: \"\";width: 100%;border-bottom: 1px solid gray;flex-grow: 1;}#sk-container-id-1 div.sk-label:hover label.sk-toggleable__label {background-color: #d4ebff;}#sk-container-id-1 div.sk-serial::before {content: \"\";position: absolute;border-left: 1px solid gray;box-sizing: border-box;top: 0;bottom: 0;left: 50%;z-index: 0;}#sk-container-id-1 div.sk-serial {display: flex;flex-direction: column;align-items: center;background-color: white;padding-right: 0.2em;padding-left: 0.2em;position: relative;}#sk-container-id-1 div.sk-item {position: relative;z-index: 1;}#sk-container-id-1 div.sk-parallel {display: flex;align-items: stretch;justify-content: center;background-color: white;position: relative;}#sk-container-id-1 div.sk-item::before, #sk-container-id-1 div.sk-parallel-item::before {content: \"\";position: absolute;border-left: 1px solid gray;box-sizing: border-box;top: 0;bottom: 0;left: 50%;z-index: -1;}#sk-container-id-1 div.sk-parallel-item {display: flex;flex-direction: column;z-index: 1;position: relative;background-color: white;}#sk-container-id-1 div.sk-parallel-item:first-child::after {align-self: flex-end;width: 50%;}#sk-container-id-1 div.sk-parallel-item:last-child::after {align-self: flex-start;width: 50%;}#sk-container-id-1 div.sk-parallel-item:only-child::after {width: 0;}#sk-container-id-1 div.sk-dashed-wrapped {border: 1px dashed gray;margin: 0 0.4em 0.5em 0.4em;box-sizing: border-box;padding-bottom: 0.4em;background-color: white;}#sk-container-id-1 div.sk-label label {font-family: monospace;font-weight: bold;display: inline-block;line-height: 1.2em;}#sk-container-id-1 div.sk-label-container {text-align: center;}#sk-container-id-1 div.sk-container {/* jupyter's `normalize.less` sets `[hidden] { display: none; }` but bootstrap.min.css set `[hidden] { display: none !important; }` so we also need the `!important` here to be able to override the default hidden behavior on the sphinx rendered scikit-learn.org. See: https://github.com/scikit-learn/scikit-learn/issues/21755 */display: inline-block !important;position: relative;}#sk-container-id-1 div.sk-text-repr-fallback {display: none;}</style><div id=\"sk-container-id-1\" class=\"sk-top-container\"><div class=\"sk-text-repr-fallback\"><pre>GridSearchCV(cv=5,\n",
       "             estimator=LogisticRegression(class_weight=&#x27;balanced&#x27;,\n",
       "                                          solver=&#x27;liblinear&#x27;),\n",
       "             param_grid={&#x27;C&#x27;: [0.001, 0.01, 0.1, 1, 10, 100],\n",
       "                         &#x27;penalty&#x27;: [&#x27;l1&#x27;, &#x27;l2&#x27;]},\n",
       "             scoring=&#x27;f1&#x27;)</pre><b>In a Jupyter environment, please rerun this cell to show the HTML representation or trust the notebook. <br />On GitHub, the HTML representation is unable to render, please try loading this page with nbviewer.org.</b></div><div class=\"sk-container\" hidden><div class=\"sk-item sk-dashed-wrapped\"><div class=\"sk-label-container\"><div class=\"sk-label sk-toggleable\"><input class=\"sk-toggleable__control sk-hidden--visually\" id=\"sk-estimator-id-1\" type=\"checkbox\" ><label for=\"sk-estimator-id-1\" class=\"sk-toggleable__label sk-toggleable__label-arrow\">GridSearchCV</label><div class=\"sk-toggleable__content\"><pre>GridSearchCV(cv=5,\n",
       "             estimator=LogisticRegression(class_weight=&#x27;balanced&#x27;,\n",
       "                                          solver=&#x27;liblinear&#x27;),\n",
       "             param_grid={&#x27;C&#x27;: [0.001, 0.01, 0.1, 1, 10, 100],\n",
       "                         &#x27;penalty&#x27;: [&#x27;l1&#x27;, &#x27;l2&#x27;]},\n",
       "             scoring=&#x27;f1&#x27;)</pre></div></div></div><div class=\"sk-parallel\"><div class=\"sk-parallel-item\"><div class=\"sk-item\"><div class=\"sk-label-container\"><div class=\"sk-label sk-toggleable\"><input class=\"sk-toggleable__control sk-hidden--visually\" id=\"sk-estimator-id-2\" type=\"checkbox\" ><label for=\"sk-estimator-id-2\" class=\"sk-toggleable__label sk-toggleable__label-arrow\">estimator: LogisticRegression</label><div class=\"sk-toggleable__content\"><pre>LogisticRegression(class_weight=&#x27;balanced&#x27;, solver=&#x27;liblinear&#x27;)</pre></div></div></div><div class=\"sk-serial\"><div class=\"sk-item\"><div class=\"sk-estimator sk-toggleable\"><input class=\"sk-toggleable__control sk-hidden--visually\" id=\"sk-estimator-id-3\" type=\"checkbox\" ><label for=\"sk-estimator-id-3\" class=\"sk-toggleable__label sk-toggleable__label-arrow\">LogisticRegression</label><div class=\"sk-toggleable__content\"><pre>LogisticRegression(class_weight=&#x27;balanced&#x27;, solver=&#x27;liblinear&#x27;)</pre></div></div></div></div></div></div></div></div></div></div>"
      ],
      "text/plain": [
       "GridSearchCV(cv=5,\n",
       "             estimator=LogisticRegression(class_weight='balanced',\n",
       "                                          solver='liblinear'),\n",
       "             param_grid={'C': [0.001, 0.01, 0.1, 1, 10, 100],\n",
       "                         'penalty': ['l1', 'l2']},\n",
       "             scoring='f1')"
      ]
     },
     "execution_count": 52,
     "metadata": {},
     "output_type": "execute_result"
    }
   ],
   "source": [
    "lr = LogisticRegression(solver='liblinear',class_weight='balanced')\n",
    "lr_params = {\n",
    "    'C': [0.001, 0.01, 0.1, 1, 10, 100],  \n",
    "    'penalty': ['l1', 'l2']  \n",
    "}\n",
    "\n",
    "lr_grid = GridSearchCV(lr, lr_params, scoring='f1', cv=5)\n",
    "lr_grid.fit(X_train, y_train)"
   ]
  },
  {
   "cell_type": "code",
   "execution_count": 53,
   "id": "c30765ee",
   "metadata": {
    "execution": {
     "iopub.execute_input": "2024-11-08T12:08:08.952776Z",
     "iopub.status.busy": "2024-11-08T12:08:08.951557Z",
     "iopub.status.idle": "2024-11-08T12:08:16.121730Z",
     "shell.execute_reply": "2024-11-08T12:08:16.120320Z"
    },
    "papermill": {
     "duration": 7.224181,
     "end_time": "2024-11-08T12:08:16.125638",
     "exception": false,
     "start_time": "2024-11-08T12:08:08.901457",
     "status": "completed"
    },
    "tags": []
   },
   "outputs": [
    {
     "data": {
      "text/html": [
       "<style>#sk-container-id-2 {color: black;background-color: white;}#sk-container-id-2 pre{padding: 0;}#sk-container-id-2 div.sk-toggleable {background-color: white;}#sk-container-id-2 label.sk-toggleable__label {cursor: pointer;display: block;width: 100%;margin-bottom: 0;padding: 0.3em;box-sizing: border-box;text-align: center;}#sk-container-id-2 label.sk-toggleable__label-arrow:before {content: \"▸\";float: left;margin-right: 0.25em;color: #696969;}#sk-container-id-2 label.sk-toggleable__label-arrow:hover:before {color: black;}#sk-container-id-2 div.sk-estimator:hover label.sk-toggleable__label-arrow:before {color: black;}#sk-container-id-2 div.sk-toggleable__content {max-height: 0;max-width: 0;overflow: hidden;text-align: left;background-color: #f0f8ff;}#sk-container-id-2 div.sk-toggleable__content pre {margin: 0.2em;color: black;border-radius: 0.25em;background-color: #f0f8ff;}#sk-container-id-2 input.sk-toggleable__control:checked~div.sk-toggleable__content {max-height: 200px;max-width: 100%;overflow: auto;}#sk-container-id-2 input.sk-toggleable__control:checked~label.sk-toggleable__label-arrow:before {content: \"▾\";}#sk-container-id-2 div.sk-estimator input.sk-toggleable__control:checked~label.sk-toggleable__label {background-color: #d4ebff;}#sk-container-id-2 div.sk-label input.sk-toggleable__control:checked~label.sk-toggleable__label {background-color: #d4ebff;}#sk-container-id-2 input.sk-hidden--visually {border: 0;clip: rect(1px 1px 1px 1px);clip: rect(1px, 1px, 1px, 1px);height: 1px;margin: -1px;overflow: hidden;padding: 0;position: absolute;width: 1px;}#sk-container-id-2 div.sk-estimator {font-family: monospace;background-color: #f0f8ff;border: 1px dotted black;border-radius: 0.25em;box-sizing: border-box;margin-bottom: 0.5em;}#sk-container-id-2 div.sk-estimator:hover {background-color: #d4ebff;}#sk-container-id-2 div.sk-parallel-item::after {content: \"\";width: 100%;border-bottom: 1px solid gray;flex-grow: 1;}#sk-container-id-2 div.sk-label:hover label.sk-toggleable__label {background-color: #d4ebff;}#sk-container-id-2 div.sk-serial::before {content: \"\";position: absolute;border-left: 1px solid gray;box-sizing: border-box;top: 0;bottom: 0;left: 50%;z-index: 0;}#sk-container-id-2 div.sk-serial {display: flex;flex-direction: column;align-items: center;background-color: white;padding-right: 0.2em;padding-left: 0.2em;position: relative;}#sk-container-id-2 div.sk-item {position: relative;z-index: 1;}#sk-container-id-2 div.sk-parallel {display: flex;align-items: stretch;justify-content: center;background-color: white;position: relative;}#sk-container-id-2 div.sk-item::before, #sk-container-id-2 div.sk-parallel-item::before {content: \"\";position: absolute;border-left: 1px solid gray;box-sizing: border-box;top: 0;bottom: 0;left: 50%;z-index: -1;}#sk-container-id-2 div.sk-parallel-item {display: flex;flex-direction: column;z-index: 1;position: relative;background-color: white;}#sk-container-id-2 div.sk-parallel-item:first-child::after {align-self: flex-end;width: 50%;}#sk-container-id-2 div.sk-parallel-item:last-child::after {align-self: flex-start;width: 50%;}#sk-container-id-2 div.sk-parallel-item:only-child::after {width: 0;}#sk-container-id-2 div.sk-dashed-wrapped {border: 1px dashed gray;margin: 0 0.4em 0.5em 0.4em;box-sizing: border-box;padding-bottom: 0.4em;background-color: white;}#sk-container-id-2 div.sk-label label {font-family: monospace;font-weight: bold;display: inline-block;line-height: 1.2em;}#sk-container-id-2 div.sk-label-container {text-align: center;}#sk-container-id-2 div.sk-container {/* jupyter's `normalize.less` sets `[hidden] { display: none; }` but bootstrap.min.css set `[hidden] { display: none !important; }` so we also need the `!important` here to be able to override the default hidden behavior on the sphinx rendered scikit-learn.org. See: https://github.com/scikit-learn/scikit-learn/issues/21755 */display: inline-block !important;position: relative;}#sk-container-id-2 div.sk-text-repr-fallback {display: none;}</style><div id=\"sk-container-id-2\" class=\"sk-top-container\"><div class=\"sk-text-repr-fallback\"><pre>GridSearchCV(cv=5,\n",
       "             estimator=LogisticRegression(class_weight=&#x27;balanced&#x27;,\n",
       "                                          solver=&#x27;liblinear&#x27;),\n",
       "             param_grid={&#x27;C&#x27;: [0.001, 0.01, 0.1, 1, 10, 100],\n",
       "                         &#x27;penalty&#x27;: [&#x27;l1&#x27;, &#x27;l2&#x27;]},\n",
       "             scoring=&#x27;f1_macro&#x27;)</pre><b>In a Jupyter environment, please rerun this cell to show the HTML representation or trust the notebook. <br />On GitHub, the HTML representation is unable to render, please try loading this page with nbviewer.org.</b></div><div class=\"sk-container\" hidden><div class=\"sk-item sk-dashed-wrapped\"><div class=\"sk-label-container\"><div class=\"sk-label sk-toggleable\"><input class=\"sk-toggleable__control sk-hidden--visually\" id=\"sk-estimator-id-4\" type=\"checkbox\" ><label for=\"sk-estimator-id-4\" class=\"sk-toggleable__label sk-toggleable__label-arrow\">GridSearchCV</label><div class=\"sk-toggleable__content\"><pre>GridSearchCV(cv=5,\n",
       "             estimator=LogisticRegression(class_weight=&#x27;balanced&#x27;,\n",
       "                                          solver=&#x27;liblinear&#x27;),\n",
       "             param_grid={&#x27;C&#x27;: [0.001, 0.01, 0.1, 1, 10, 100],\n",
       "                         &#x27;penalty&#x27;: [&#x27;l1&#x27;, &#x27;l2&#x27;]},\n",
       "             scoring=&#x27;f1_macro&#x27;)</pre></div></div></div><div class=\"sk-parallel\"><div class=\"sk-parallel-item\"><div class=\"sk-item\"><div class=\"sk-label-container\"><div class=\"sk-label sk-toggleable\"><input class=\"sk-toggleable__control sk-hidden--visually\" id=\"sk-estimator-id-5\" type=\"checkbox\" ><label for=\"sk-estimator-id-5\" class=\"sk-toggleable__label sk-toggleable__label-arrow\">estimator: LogisticRegression</label><div class=\"sk-toggleable__content\"><pre>LogisticRegression(class_weight=&#x27;balanced&#x27;, solver=&#x27;liblinear&#x27;)</pre></div></div></div><div class=\"sk-serial\"><div class=\"sk-item\"><div class=\"sk-estimator sk-toggleable\"><input class=\"sk-toggleable__control sk-hidden--visually\" id=\"sk-estimator-id-6\" type=\"checkbox\" ><label for=\"sk-estimator-id-6\" class=\"sk-toggleable__label sk-toggleable__label-arrow\">LogisticRegression</label><div class=\"sk-toggleable__content\"><pre>LogisticRegression(class_weight=&#x27;balanced&#x27;, solver=&#x27;liblinear&#x27;)</pre></div></div></div></div></div></div></div></div></div></div>"
      ],
      "text/plain": [
       "GridSearchCV(cv=5,\n",
       "             estimator=LogisticRegression(class_weight='balanced',\n",
       "                                          solver='liblinear'),\n",
       "             param_grid={'C': [0.001, 0.01, 0.1, 1, 10, 100],\n",
       "                         'penalty': ['l1', 'l2']},\n",
       "             scoring='f1_macro')"
      ]
     },
     "execution_count": 53,
     "metadata": {},
     "output_type": "execute_result"
    }
   ],
   "source": [
    "lr_grid = GridSearchCV(lr, lr_params, scoring='f1_macro', cv=5)\n",
    "lr_grid.fit(X_train, y_train)"
   ]
  },
  {
   "cell_type": "code",
   "execution_count": 54,
   "id": "a5d78f5a",
   "metadata": {
    "execution": {
     "iopub.execute_input": "2024-11-08T12:08:16.219376Z",
     "iopub.status.busy": "2024-11-08T12:08:16.218631Z",
     "iopub.status.idle": "2024-11-08T12:08:16.230945Z",
     "shell.execute_reply": "2024-11-08T12:08:16.229233Z"
    },
    "papermill": {
     "duration": 0.063198,
     "end_time": "2024-11-08T12:08:16.235204",
     "exception": false,
     "start_time": "2024-11-08T12:08:16.172006",
     "status": "completed"
    },
    "tags": []
   },
   "outputs": [],
   "source": [
    "best_lr = lr_grid.best_estimator_\n",
    "y_pred_lr = best_lr.predict(X_test)"
   ]
  },
  {
   "cell_type": "code",
   "execution_count": 55,
   "id": "b1a957cb",
   "metadata": {
    "execution": {
     "iopub.execute_input": "2024-11-08T12:08:16.384991Z",
     "iopub.status.busy": "2024-11-08T12:08:16.384163Z",
     "iopub.status.idle": "2024-11-08T12:08:16.410929Z",
     "shell.execute_reply": "2024-11-08T12:08:16.409904Z"
    },
    "papermill": {
     "duration": 0.083614,
     "end_time": "2024-11-08T12:08:16.413605",
     "exception": false,
     "start_time": "2024-11-08T12:08:16.329991",
     "status": "completed"
    },
    "tags": []
   },
   "outputs": [
    {
     "name": "stdout",
     "output_type": "stream",
     "text": [
      "\n",
      "Best Logistic Regression Parameters: {'C': 0.001, 'penalty': 'l2'}\n",
      "Accuracy: 83.51396149432615\n",
      "              precision    recall  f1-score   support\n",
      "\n",
      "           0       0.94      0.86      0.90      6713\n",
      "           1       0.45      0.67      0.54      1130\n",
      "\n",
      "    accuracy                           0.84      7843\n",
      "   macro avg       0.70      0.77      0.72      7843\n",
      "weighted avg       0.87      0.84      0.85      7843\n",
      "\n"
     ]
    }
   ],
   "source": [
    "print(\"\\nBest Logistic Regression Parameters:\", lr_grid.best_params_)\n",
    "print(\"Accuracy:\", (accuracy_score(y_test, y_pred_lr))*100)\n",
    "print(classification_report(y_test, y_pred_lr))"
   ]
  },
  {
   "cell_type": "code",
   "execution_count": 56,
   "id": "2db3f356",
   "metadata": {
    "execution": {
     "iopub.execute_input": "2024-11-08T12:08:16.506514Z",
     "iopub.status.busy": "2024-11-08T12:08:16.505507Z",
     "iopub.status.idle": "2024-11-08T12:08:16.600880Z",
     "shell.execute_reply": "2024-11-08T12:08:16.599805Z"
    },
    "papermill": {
     "duration": 0.14427,
     "end_time": "2024-11-08T12:08:16.603296",
     "exception": false,
     "start_time": "2024-11-08T12:08:16.459026",
     "status": "completed"
    },
    "tags": []
   },
   "outputs": [
    {
     "data": {
      "text/html": [
       "<style>#sk-container-id-3 {color: black;background-color: white;}#sk-container-id-3 pre{padding: 0;}#sk-container-id-3 div.sk-toggleable {background-color: white;}#sk-container-id-3 label.sk-toggleable__label {cursor: pointer;display: block;width: 100%;margin-bottom: 0;padding: 0.3em;box-sizing: border-box;text-align: center;}#sk-container-id-3 label.sk-toggleable__label-arrow:before {content: \"▸\";float: left;margin-right: 0.25em;color: #696969;}#sk-container-id-3 label.sk-toggleable__label-arrow:hover:before {color: black;}#sk-container-id-3 div.sk-estimator:hover label.sk-toggleable__label-arrow:before {color: black;}#sk-container-id-3 div.sk-toggleable__content {max-height: 0;max-width: 0;overflow: hidden;text-align: left;background-color: #f0f8ff;}#sk-container-id-3 div.sk-toggleable__content pre {margin: 0.2em;color: black;border-radius: 0.25em;background-color: #f0f8ff;}#sk-container-id-3 input.sk-toggleable__control:checked~div.sk-toggleable__content {max-height: 200px;max-width: 100%;overflow: auto;}#sk-container-id-3 input.sk-toggleable__control:checked~label.sk-toggleable__label-arrow:before {content: \"▾\";}#sk-container-id-3 div.sk-estimator input.sk-toggleable__control:checked~label.sk-toggleable__label {background-color: #d4ebff;}#sk-container-id-3 div.sk-label input.sk-toggleable__control:checked~label.sk-toggleable__label {background-color: #d4ebff;}#sk-container-id-3 input.sk-hidden--visually {border: 0;clip: rect(1px 1px 1px 1px);clip: rect(1px, 1px, 1px, 1px);height: 1px;margin: -1px;overflow: hidden;padding: 0;position: absolute;width: 1px;}#sk-container-id-3 div.sk-estimator {font-family: monospace;background-color: #f0f8ff;border: 1px dotted black;border-radius: 0.25em;box-sizing: border-box;margin-bottom: 0.5em;}#sk-container-id-3 div.sk-estimator:hover {background-color: #d4ebff;}#sk-container-id-3 div.sk-parallel-item::after {content: \"\";width: 100%;border-bottom: 1px solid gray;flex-grow: 1;}#sk-container-id-3 div.sk-label:hover label.sk-toggleable__label {background-color: #d4ebff;}#sk-container-id-3 div.sk-serial::before {content: \"\";position: absolute;border-left: 1px solid gray;box-sizing: border-box;top: 0;bottom: 0;left: 50%;z-index: 0;}#sk-container-id-3 div.sk-serial {display: flex;flex-direction: column;align-items: center;background-color: white;padding-right: 0.2em;padding-left: 0.2em;position: relative;}#sk-container-id-3 div.sk-item {position: relative;z-index: 1;}#sk-container-id-3 div.sk-parallel {display: flex;align-items: stretch;justify-content: center;background-color: white;position: relative;}#sk-container-id-3 div.sk-item::before, #sk-container-id-3 div.sk-parallel-item::before {content: \"\";position: absolute;border-left: 1px solid gray;box-sizing: border-box;top: 0;bottom: 0;left: 50%;z-index: -1;}#sk-container-id-3 div.sk-parallel-item {display: flex;flex-direction: column;z-index: 1;position: relative;background-color: white;}#sk-container-id-3 div.sk-parallel-item:first-child::after {align-self: flex-end;width: 50%;}#sk-container-id-3 div.sk-parallel-item:last-child::after {align-self: flex-start;width: 50%;}#sk-container-id-3 div.sk-parallel-item:only-child::after {width: 0;}#sk-container-id-3 div.sk-dashed-wrapped {border: 1px dashed gray;margin: 0 0.4em 0.5em 0.4em;box-sizing: border-box;padding-bottom: 0.4em;background-color: white;}#sk-container-id-3 div.sk-label label {font-family: monospace;font-weight: bold;display: inline-block;line-height: 1.2em;}#sk-container-id-3 div.sk-label-container {text-align: center;}#sk-container-id-3 div.sk-container {/* jupyter's `normalize.less` sets `[hidden] { display: none; }` but bootstrap.min.css set `[hidden] { display: none !important; }` so we also need the `!important` here to be able to override the default hidden behavior on the sphinx rendered scikit-learn.org. See: https://github.com/scikit-learn/scikit-learn/issues/21755 */display: inline-block !important;position: relative;}#sk-container-id-3 div.sk-text-repr-fallback {display: none;}</style><div id=\"sk-container-id-3\" class=\"sk-top-container\"><div class=\"sk-text-repr-fallback\"><pre>LogisticRegression(C=0.001, class_weight=&#x27;balanced&#x27;, solver=&#x27;liblinear&#x27;)</pre><b>In a Jupyter environment, please rerun this cell to show the HTML representation or trust the notebook. <br />On GitHub, the HTML representation is unable to render, please try loading this page with nbviewer.org.</b></div><div class=\"sk-container\" hidden><div class=\"sk-item\"><div class=\"sk-estimator sk-toggleable\"><input class=\"sk-toggleable__control sk-hidden--visually\" id=\"sk-estimator-id-7\" type=\"checkbox\" checked><label for=\"sk-estimator-id-7\" class=\"sk-toggleable__label sk-toggleable__label-arrow\">LogisticRegression</label><div class=\"sk-toggleable__content\"><pre>LogisticRegression(C=0.001, class_weight=&#x27;balanced&#x27;, solver=&#x27;liblinear&#x27;)</pre></div></div></div></div></div>"
      ],
      "text/plain": [
       "LogisticRegression(C=0.001, class_weight='balanced', solver='liblinear')"
      ]
     },
     "execution_count": 56,
     "metadata": {},
     "output_type": "execute_result"
    }
   ],
   "source": [
    "X2_train = X\n",
    "y2_train = y\n",
    "\n",
    "lr2 = LogisticRegression(solver='liblinear', C=0.001, penalty='l2', class_weight='balanced')\n",
    "lr2.fit(X2_train,y2_train)"
   ]
  },
  {
   "cell_type": "code",
   "execution_count": 57,
   "id": "7d23ab72",
   "metadata": {
    "execution": {
     "iopub.execute_input": "2024-11-08T12:08:16.696587Z",
     "iopub.status.busy": "2024-11-08T12:08:16.695663Z",
     "iopub.status.idle": "2024-11-08T12:08:16.708840Z",
     "shell.execute_reply": "2024-11-08T12:08:16.707425Z"
    },
    "papermill": {
     "duration": 0.064379,
     "end_time": "2024-11-08T12:08:16.713125",
     "exception": false,
     "start_time": "2024-11-08T12:08:16.648746",
     "status": "completed"
    },
    "tags": []
   },
   "outputs": [],
   "source": [
    "y_pred_test = pd.DataFrame(lr2.predict(test))"
   ]
  },
  {
   "cell_type": "markdown",
   "id": "68e72d54",
   "metadata": {
    "papermill": {
     "duration": 0.052164,
     "end_time": "2024-11-08T12:08:16.860491",
     "exception": false,
     "start_time": "2024-11-08T12:08:16.808327",
     "status": "completed"
    },
    "tags": []
   },
   "source": [
    "### Random Forest"
   ]
  },
  {
   "cell_type": "code",
   "execution_count": 58,
   "id": "93520390",
   "metadata": {
    "execution": {
     "iopub.execute_input": "2024-11-08T12:08:16.953459Z",
     "iopub.status.busy": "2024-11-08T12:08:16.953062Z",
     "iopub.status.idle": "2024-11-08T12:08:16.958244Z",
     "shell.execute_reply": "2024-11-08T12:08:16.956822Z"
    },
    "papermill": {
     "duration": 0.055022,
     "end_time": "2024-11-08T12:08:16.961084",
     "exception": false,
     "start_time": "2024-11-08T12:08:16.906062",
     "status": "completed"
    },
    "tags": []
   },
   "outputs": [],
   "source": [
    "# rf = RandomForestClassifier(random_state=2,class_weight='balanced')\n",
    "# rf_params = {\n",
    "#     'n_estimators': [100, 200, 300],  \n",
    "#     'max_depth': [5, 10, 20, None],  \n",
    "#     'min_samples_split': [2, 5, 10]  \n",
    "# }"
   ]
  },
  {
   "cell_type": "code",
   "execution_count": 59,
   "id": "a0ec7055",
   "metadata": {
    "execution": {
     "iopub.execute_input": "2024-11-08T12:08:17.056712Z",
     "iopub.status.busy": "2024-11-08T12:08:17.056042Z",
     "iopub.status.idle": "2024-11-08T12:08:17.060667Z",
     "shell.execute_reply": "2024-11-08T12:08:17.059609Z"
    },
    "papermill": {
     "duration": 0.054793,
     "end_time": "2024-11-08T12:08:17.062980",
     "exception": false,
     "start_time": "2024-11-08T12:08:17.008187",
     "status": "completed"
    },
    "tags": []
   },
   "outputs": [],
   "source": [
    "# rf_grid = GridSearchCV(rf, rf_params, scoring='f1_macro', cv=5)\n",
    "# rf_grid.fit(X_train, y_train)"
   ]
  },
  {
   "cell_type": "code",
   "execution_count": 60,
   "id": "7781335c",
   "metadata": {
    "execution": {
     "iopub.execute_input": "2024-11-08T12:08:17.157378Z",
     "iopub.status.busy": "2024-11-08T12:08:17.156984Z",
     "iopub.status.idle": "2024-11-08T12:08:17.161562Z",
     "shell.execute_reply": "2024-11-08T12:08:17.160556Z"
    },
    "papermill": {
     "duration": 0.055099,
     "end_time": "2024-11-08T12:08:17.163869",
     "exception": false,
     "start_time": "2024-11-08T12:08:17.108770",
     "status": "completed"
    },
    "tags": []
   },
   "outputs": [],
   "source": [
    "# best_rf = rf_grid.best_estimator_\n",
    "# y_pred_rf = best_rf.predict(X_test)"
   ]
  },
  {
   "cell_type": "code",
   "execution_count": 61,
   "id": "5089e37b",
   "metadata": {
    "execution": {
     "iopub.execute_input": "2024-11-08T12:08:17.256695Z",
     "iopub.status.busy": "2024-11-08T12:08:17.256042Z",
     "iopub.status.idle": "2024-11-08T12:08:27.193597Z",
     "shell.execute_reply": "2024-11-08T12:08:27.192425Z"
    },
    "papermill": {
     "duration": 9.98699,
     "end_time": "2024-11-08T12:08:27.196351",
     "exception": false,
     "start_time": "2024-11-08T12:08:17.209361",
     "status": "completed"
    },
    "tags": []
   },
   "outputs": [
    {
     "data": {
      "text/html": [
       "<style>#sk-container-id-4 {color: black;background-color: white;}#sk-container-id-4 pre{padding: 0;}#sk-container-id-4 div.sk-toggleable {background-color: white;}#sk-container-id-4 label.sk-toggleable__label {cursor: pointer;display: block;width: 100%;margin-bottom: 0;padding: 0.3em;box-sizing: border-box;text-align: center;}#sk-container-id-4 label.sk-toggleable__label-arrow:before {content: \"▸\";float: left;margin-right: 0.25em;color: #696969;}#sk-container-id-4 label.sk-toggleable__label-arrow:hover:before {color: black;}#sk-container-id-4 div.sk-estimator:hover label.sk-toggleable__label-arrow:before {color: black;}#sk-container-id-4 div.sk-toggleable__content {max-height: 0;max-width: 0;overflow: hidden;text-align: left;background-color: #f0f8ff;}#sk-container-id-4 div.sk-toggleable__content pre {margin: 0.2em;color: black;border-radius: 0.25em;background-color: #f0f8ff;}#sk-container-id-4 input.sk-toggleable__control:checked~div.sk-toggleable__content {max-height: 200px;max-width: 100%;overflow: auto;}#sk-container-id-4 input.sk-toggleable__control:checked~label.sk-toggleable__label-arrow:before {content: \"▾\";}#sk-container-id-4 div.sk-estimator input.sk-toggleable__control:checked~label.sk-toggleable__label {background-color: #d4ebff;}#sk-container-id-4 div.sk-label input.sk-toggleable__control:checked~label.sk-toggleable__label {background-color: #d4ebff;}#sk-container-id-4 input.sk-hidden--visually {border: 0;clip: rect(1px 1px 1px 1px);clip: rect(1px, 1px, 1px, 1px);height: 1px;margin: -1px;overflow: hidden;padding: 0;position: absolute;width: 1px;}#sk-container-id-4 div.sk-estimator {font-family: monospace;background-color: #f0f8ff;border: 1px dotted black;border-radius: 0.25em;box-sizing: border-box;margin-bottom: 0.5em;}#sk-container-id-4 div.sk-estimator:hover {background-color: #d4ebff;}#sk-container-id-4 div.sk-parallel-item::after {content: \"\";width: 100%;border-bottom: 1px solid gray;flex-grow: 1;}#sk-container-id-4 div.sk-label:hover label.sk-toggleable__label {background-color: #d4ebff;}#sk-container-id-4 div.sk-serial::before {content: \"\";position: absolute;border-left: 1px solid gray;box-sizing: border-box;top: 0;bottom: 0;left: 50%;z-index: 0;}#sk-container-id-4 div.sk-serial {display: flex;flex-direction: column;align-items: center;background-color: white;padding-right: 0.2em;padding-left: 0.2em;position: relative;}#sk-container-id-4 div.sk-item {position: relative;z-index: 1;}#sk-container-id-4 div.sk-parallel {display: flex;align-items: stretch;justify-content: center;background-color: white;position: relative;}#sk-container-id-4 div.sk-item::before, #sk-container-id-4 div.sk-parallel-item::before {content: \"\";position: absolute;border-left: 1px solid gray;box-sizing: border-box;top: 0;bottom: 0;left: 50%;z-index: -1;}#sk-container-id-4 div.sk-parallel-item {display: flex;flex-direction: column;z-index: 1;position: relative;background-color: white;}#sk-container-id-4 div.sk-parallel-item:first-child::after {align-self: flex-end;width: 50%;}#sk-container-id-4 div.sk-parallel-item:last-child::after {align-self: flex-start;width: 50%;}#sk-container-id-4 div.sk-parallel-item:only-child::after {width: 0;}#sk-container-id-4 div.sk-dashed-wrapped {border: 1px dashed gray;margin: 0 0.4em 0.5em 0.4em;box-sizing: border-box;padding-bottom: 0.4em;background-color: white;}#sk-container-id-4 div.sk-label label {font-family: monospace;font-weight: bold;display: inline-block;line-height: 1.2em;}#sk-container-id-4 div.sk-label-container {text-align: center;}#sk-container-id-4 div.sk-container {/* jupyter's `normalize.less` sets `[hidden] { display: none; }` but bootstrap.min.css set `[hidden] { display: none !important; }` so we also need the `!important` here to be able to override the default hidden behavior on the sphinx rendered scikit-learn.org. See: https://github.com/scikit-learn/scikit-learn/issues/21755 */display: inline-block !important;position: relative;}#sk-container-id-4 div.sk-text-repr-fallback {display: none;}</style><div id=\"sk-container-id-4\" class=\"sk-top-container\"><div class=\"sk-text-repr-fallback\"><pre>RandomForestClassifier(max_depth=15, max_features=0.7, min_samples_leaf=4,\n",
       "                       min_samples_split=8, random_state=2)</pre><b>In a Jupyter environment, please rerun this cell to show the HTML representation or trust the notebook. <br />On GitHub, the HTML representation is unable to render, please try loading this page with nbviewer.org.</b></div><div class=\"sk-container\" hidden><div class=\"sk-item\"><div class=\"sk-estimator sk-toggleable\"><input class=\"sk-toggleable__control sk-hidden--visually\" id=\"sk-estimator-id-8\" type=\"checkbox\" checked><label for=\"sk-estimator-id-8\" class=\"sk-toggleable__label sk-toggleable__label-arrow\">RandomForestClassifier</label><div class=\"sk-toggleable__content\"><pre>RandomForestClassifier(max_depth=15, max_features=0.7, min_samples_leaf=4,\n",
       "                       min_samples_split=8, random_state=2)</pre></div></div></div></div></div>"
      ],
      "text/plain": [
       "RandomForestClassifier(max_depth=15, max_features=0.7, min_samples_leaf=4,\n",
       "                       min_samples_split=8, random_state=2)"
      ]
     },
     "execution_count": 61,
     "metadata": {},
     "output_type": "execute_result"
    }
   ],
   "source": [
    "rf = RandomForestClassifier(random_state=2,\n",
    "                            max_depth=15,\n",
    "                            max_features=0.7,\n",
    "                            min_samples_leaf=4,\n",
    "                            min_samples_split=8,\n",
    "                            n_estimators=100,\n",
    "                           bootstrap=True)\n",
    "rf.fit(X2_train,y2_train)\n"
   ]
  },
  {
   "cell_type": "code",
   "execution_count": 62,
   "id": "58d06346",
   "metadata": {
    "execution": {
     "iopub.execute_input": "2024-11-08T12:08:27.291116Z",
     "iopub.status.busy": "2024-11-08T12:08:27.290637Z",
     "iopub.status.idle": "2024-11-08T12:08:27.425622Z",
     "shell.execute_reply": "2024-11-08T12:08:27.424658Z"
    },
    "papermill": {
     "duration": 0.185623,
     "end_time": "2024-11-08T12:08:27.428310",
     "exception": false,
     "start_time": "2024-11-08T12:08:27.242687",
     "status": "completed"
    },
    "tags": []
   },
   "outputs": [],
   "source": [
    "y_pred_rf = rf.predict(X_test)"
   ]
  },
  {
   "cell_type": "code",
   "execution_count": 63,
   "id": "64edfa2f",
   "metadata": {
    "execution": {
     "iopub.execute_input": "2024-11-08T12:08:27.521910Z",
     "iopub.status.busy": "2024-11-08T12:08:27.521487Z",
     "iopub.status.idle": "2024-11-08T12:08:27.550846Z",
     "shell.execute_reply": "2024-11-08T12:08:27.549780Z"
    },
    "papermill": {
     "duration": 0.079174,
     "end_time": "2024-11-08T12:08:27.553444",
     "exception": false,
     "start_time": "2024-11-08T12:08:27.474270",
     "status": "completed"
    },
    "tags": []
   },
   "outputs": [
    {
     "name": "stdout",
     "output_type": "stream",
     "text": [
      "              precision    recall  f1-score   support\n",
      "\n",
      "           0       0.96      0.99      0.97      6713\n",
      "           1       0.91      0.76      0.83      1130\n",
      "\n",
      "    accuracy                           0.95      7843\n",
      "   macro avg       0.94      0.88      0.90      7843\n",
      "weighted avg       0.95      0.95      0.95      7843\n",
      "\n",
      "0.8302068302068302\n"
     ]
    }
   ],
   "source": [
    "# print(\"\\nBest Random Forest Parameters:\", rf_grid.best_params_)\n",
    "print(classification_report(y_test, y_pred_rf))\n",
    "print(f1_score(y_test, y_pred_rf))"
   ]
  },
  {
   "cell_type": "code",
   "execution_count": 64,
   "id": "aa9d6105",
   "metadata": {
    "execution": {
     "iopub.execute_input": "2024-11-08T12:08:27.647316Z",
     "iopub.status.busy": "2024-11-08T12:08:27.646878Z",
     "iopub.status.idle": "2024-11-08T12:08:27.651465Z",
     "shell.execute_reply": "2024-11-08T12:08:27.650469Z"
    },
    "papermill": {
     "duration": 0.054362,
     "end_time": "2024-11-08T12:08:27.653770",
     "exception": false,
     "start_time": "2024-11-08T12:08:27.599408",
     "status": "completed"
    },
    "tags": []
   },
   "outputs": [],
   "source": [
    "# print(\"Accuracy:\", (accuracy_score(y_test, forest_predictions))*100)\n",
    "# print(classification_report(y_test, forest_predictions))"
   ]
  },
  {
   "cell_type": "code",
   "execution_count": 65,
   "id": "dd8acd91",
   "metadata": {
    "execution": {
     "iopub.execute_input": "2024-11-08T12:08:27.747381Z",
     "iopub.status.busy": "2024-11-08T12:08:27.746981Z",
     "iopub.status.idle": "2024-11-08T12:08:32.095742Z",
     "shell.execute_reply": "2024-11-08T12:08:32.094762Z"
    },
    "papermill": {
     "duration": 4.398763,
     "end_time": "2024-11-08T12:08:32.098431",
     "exception": false,
     "start_time": "2024-11-08T12:08:27.699668",
     "status": "completed"
    },
    "tags": []
   },
   "outputs": [],
   "source": [
    "X2_train = X\n",
    "y2_train = y\n",
    "forest2 = RandomForestClassifier(random_state=2,\n",
    "                            max_depth=15,\n",
    "                            max_features='sqrt',\n",
    "                            min_samples_leaf=5,\n",
    "                            min_samples_split=10,\n",
    "                            n_estimators=75)\n",
    "forest2.fit(X2_train,y2_train)\n",
    "y_pred_test_2 = pd.Series(forest2.predict(test))"
   ]
  },
  {
   "cell_type": "markdown",
   "id": "44151c9c",
   "metadata": {
    "papermill": {
     "duration": 0.049168,
     "end_time": "2024-11-08T12:08:32.193927",
     "exception": false,
     "start_time": "2024-11-08T12:08:32.144759",
     "status": "completed"
    },
    "tags": []
   },
   "source": [
    "### SVM"
   ]
  },
  {
   "cell_type": "code",
   "execution_count": 66,
   "id": "2d1f12f9",
   "metadata": {
    "execution": {
     "iopub.execute_input": "2024-11-08T12:08:32.290533Z",
     "iopub.status.busy": "2024-11-08T12:08:32.290121Z",
     "iopub.status.idle": "2024-11-08T12:08:32.295257Z",
     "shell.execute_reply": "2024-11-08T12:08:32.294084Z"
    },
    "papermill": {
     "duration": 0.0563,
     "end_time": "2024-11-08T12:08:32.297685",
     "exception": false,
     "start_time": "2024-11-08T12:08:32.241385",
     "status": "completed"
    },
    "tags": []
   },
   "outputs": [],
   "source": [
    "# svm = SVC(class_weight='balanced')\n",
    "# svm_params = {\n",
    "#     'C': [0.01, 0.1, 1, 10, 100],\n",
    "#     'kernel': ['linear', 'rbf', 'poly'],  \n",
    "#     'gamma': ['scale', 'auto']  \n",
    "# }"
   ]
  },
  {
   "cell_type": "code",
   "execution_count": 67,
   "id": "11165b3a",
   "metadata": {
    "execution": {
     "iopub.execute_input": "2024-11-08T12:08:32.392529Z",
     "iopub.status.busy": "2024-11-08T12:08:32.392103Z",
     "iopub.status.idle": "2024-11-08T12:08:32.396996Z",
     "shell.execute_reply": "2024-11-08T12:08:32.395792Z"
    },
    "papermill": {
     "duration": 0.055211,
     "end_time": "2024-11-08T12:08:32.399392",
     "exception": false,
     "start_time": "2024-11-08T12:08:32.344181",
     "status": "completed"
    },
    "tags": []
   },
   "outputs": [],
   "source": [
    "# svm_grid = GridSearchCV(svm, svm_params, scoring='f1', cv=5)\n",
    "# svm_grid.fit(X_train, y_train)"
   ]
  },
  {
   "cell_type": "code",
   "execution_count": 68,
   "id": "98f0abac",
   "metadata": {
    "execution": {
     "iopub.execute_input": "2024-11-08T12:08:32.493803Z",
     "iopub.status.busy": "2024-11-08T12:08:32.493031Z",
     "iopub.status.idle": "2024-11-08T12:08:32.498064Z",
     "shell.execute_reply": "2024-11-08T12:08:32.496808Z"
    },
    "papermill": {
     "duration": 0.055254,
     "end_time": "2024-11-08T12:08:32.500586",
     "exception": false,
     "start_time": "2024-11-08T12:08:32.445332",
     "status": "completed"
    },
    "tags": []
   },
   "outputs": [],
   "source": [
    "# best_svm = svm_grid.best_estimator_\n",
    "# y_pred_svm = best_svm.predict(X_test)\n",
    "# print(\"\\nBest SVM Parameters:\", svm_grid.best_params_)\n",
    "# print(classification_report(y_test, y_pred_svm))"
   ]
  },
  {
   "cell_type": "code",
   "execution_count": 69,
   "id": "0ba2181a",
   "metadata": {
    "execution": {
     "iopub.execute_input": "2024-11-08T12:08:32.595097Z",
     "iopub.status.busy": "2024-11-08T12:08:32.594122Z",
     "iopub.status.idle": "2024-11-08T12:09:24.966954Z",
     "shell.execute_reply": "2024-11-08T12:09:24.965942Z"
    },
    "papermill": {
     "duration": 52.422544,
     "end_time": "2024-11-08T12:09:24.969770",
     "exception": false,
     "start_time": "2024-11-08T12:08:32.547226",
     "status": "completed"
    },
    "tags": []
   },
   "outputs": [],
   "source": [
    "X2_train = X\n",
    "y2_train = y\n",
    "best_svm_full = SVC(C=0.1, gamma='scale', kernel='rbf', class_weight='balanced')  \n",
    "best_svm_full.fit(X2_train, y2_train) \n",
    "\n",
    "# Predict on the test data (if test data is available)\n",
    "y_pred_test_3 =  pd.Series(best_svm_full.predict(test))"
   ]
  },
  {
   "cell_type": "markdown",
   "id": "8dcec626",
   "metadata": {
    "papermill": {
     "duration": 0.045613,
     "end_time": "2024-11-08T12:09:25.062166",
     "exception": false,
     "start_time": "2024-11-08T12:09:25.016553",
     "status": "completed"
    },
    "tags": []
   },
   "source": [
    "### XGBoost"
   ]
  },
  {
   "cell_type": "code",
   "execution_count": 70,
   "id": "25828352",
   "metadata": {
    "execution": {
     "iopub.execute_input": "2024-11-08T12:09:25.155877Z",
     "iopub.status.busy": "2024-11-08T12:09:25.155127Z",
     "iopub.status.idle": "2024-11-08T12:09:25.160777Z",
     "shell.execute_reply": "2024-11-08T12:09:25.159624Z"
    },
    "papermill": {
     "duration": 0.055182,
     "end_time": "2024-11-08T12:09:25.163168",
     "exception": false,
     "start_time": "2024-11-08T12:09:25.107986",
     "status": "completed"
    },
    "tags": []
   },
   "outputs": [],
   "source": [
    "# negative_class_count = (y_train == 0).sum()  \n",
    "# positive_class_count = (y_train == 1).sum()  \n",
    "\n",
    "# scale_pos_weight = negative_class_count / positive_class_count\n",
    "# xgb_model = xgb.XGBClassifier(objective='binary:logistic', use_label_encoder=False, eval_metric='logloss')\n",
    "\n",
    "# xgb_params = {\n",
    "#     'n_estimators': [200,300],\n",
    "#     'max_depth': [7,9],\n",
    "#     'learning_rate': [0.05, 0.1],\n",
    "#     'subsample': [0.8, 1.0],\n",
    "#     'colsample_bytree': [0.6, 0.8, 1.0],\n",
    "#     'gamma': [0.1,0.2],\n",
    "#     'min_child_weight': [3, 5,10],\n",
    "#     'scale_pos_weight': [1, scale_pos_weight],  \n",
    "#     'alpha': [0.1,0.5],  \n",
    "#     'lambda': [1, 2]  \n",
    "# }"
   ]
  },
  {
   "cell_type": "code",
   "execution_count": 71,
   "id": "ba4e9aa8",
   "metadata": {
    "execution": {
     "iopub.execute_input": "2024-11-08T12:09:25.258347Z",
     "iopub.status.busy": "2024-11-08T12:09:25.257408Z",
     "iopub.status.idle": "2024-11-08T12:09:25.261934Z",
     "shell.execute_reply": "2024-11-08T12:09:25.260977Z"
    },
    "papermill": {
     "duration": 0.054366,
     "end_time": "2024-11-08T12:09:25.264111",
     "exception": false,
     "start_time": "2024-11-08T12:09:25.209745",
     "status": "completed"
    },
    "tags": []
   },
   "outputs": [],
   "source": [
    "# xgb_grid = GridSearchCV(estimator=xgb_model, param_grid=xgb_params, scoring='f1_macro', cv=5, verbose=1)\n",
    "# xgb_grid.fit(X_train, y_train)\n"
   ]
  },
  {
   "cell_type": "code",
   "execution_count": 72,
   "id": "8e00a3c4",
   "metadata": {
    "execution": {
     "iopub.execute_input": "2024-11-08T12:09:25.358015Z",
     "iopub.status.busy": "2024-11-08T12:09:25.357224Z",
     "iopub.status.idle": "2024-11-08T12:09:25.362014Z",
     "shell.execute_reply": "2024-11-08T12:09:25.360963Z"
    },
    "papermill": {
     "duration": 0.054542,
     "end_time": "2024-11-08T12:09:25.364583",
     "exception": false,
     "start_time": "2024-11-08T12:09:25.310041",
     "status": "completed"
    },
    "tags": []
   },
   "outputs": [],
   "source": [
    "# best_xgb = xgb_grid.best_estimator_\n",
    "# y_pred_xgb = best_xgb.predict(X_test)\n",
    "\n",
    "# print(\"\\nBest XGBoost Parameters:\", xgb_grid.best_params_)\n",
    "# print(classification_report(y_test, y_pred_xgb))\n",
    "# print(f1_score(y_test, y_pred_xgb))"
   ]
  },
  {
   "cell_type": "markdown",
   "id": "6d85a127",
   "metadata": {
    "papermill": {
     "duration": 0.04577,
     "end_time": "2024-11-08T12:09:25.459200",
     "exception": false,
     "start_time": "2024-11-08T12:09:25.413430",
     "status": "completed"
    },
    "tags": []
   },
   "source": [
    "\n",
    "Best XGBoost Parameters: {'alpha': 0.5, 'colsample_bytree': 0.6, 'gamma': 0.2, 'lambda': 1, 'learning_rate': 0.05, 'max_depth': 9, 'min_child_weight': 3, 'n_estimators': 200, 'scale_pos_weight': 5.678305301256121, 'subsample': 0.8}\n",
    "              precision    recall  f1-score   support\n",
    "\n",
    "           0       0.97      0.86      0.91      6713\n",
    "           1       0.50      0.82      0.62      1130\n",
    "\n",
    "    accuracy                           0.86      7843\n",
    "   macro avg       0.73      0.84      0.77      7843\n",
    "weighted avg       0.90      0.86      0.87      7843\n",
    "\n",
    "0.6222816995650718"
   ]
  },
  {
   "cell_type": "code",
   "execution_count": 73,
   "id": "15063613",
   "metadata": {
    "execution": {
     "iopub.execute_input": "2024-11-08T12:09:25.553452Z",
     "iopub.status.busy": "2024-11-08T12:09:25.552473Z",
     "iopub.status.idle": "2024-11-08T12:09:26.534581Z",
     "shell.execute_reply": "2024-11-08T12:09:26.533533Z"
    },
    "papermill": {
     "duration": 1.032423,
     "end_time": "2024-11-08T12:09:26.537549",
     "exception": false,
     "start_time": "2024-11-08T12:09:25.505126",
     "status": "completed"
    },
    "tags": []
   },
   "outputs": [
    {
     "name": "stdout",
     "output_type": "stream",
     "text": [
      "              precision    recall  f1-score   support\n",
      "\n",
      "           0       0.97      0.86      0.91      6713\n",
      "           1       0.50      0.82      0.62      1130\n",
      "\n",
      "    accuracy                           0.85      7843\n",
      "   macro avg       0.73      0.84      0.76      7843\n",
      "weighted avg       0.90      0.85      0.87      7843\n",
      "\n",
      "0.6188729576525508\n"
     ]
    }
   ],
   "source": [
    "\n",
    "xgb_model = xgb.XGBClassifier(\n",
    "    objective='binary:logistic',\n",
    "    use_label_encoder=False,\n",
    "    eval_metric='logloss',\n",
    "    alpha=0.5,\n",
    "    colsample_bytree=0.6,\n",
    "    gamma=0.2,\n",
    "    reg_lambda=1,  \n",
    "    learning_rate=0.05,\n",
    "    max_depth=9,\n",
    "    min_child_weight=3,\n",
    "    n_estimators=200,\n",
    "    scale_pos_weight=5.678305301256121,\n",
    "    subsample=0.8,\n",
    "    random_state=42  \n",
    ")\n",
    "\n",
    "xgb_model.fit(X_train, y_train)\n",
    "\n",
    "# Predict on the test set (assuming you have X_test prepared)\n",
    "y_pred_xgb = xgb_model.predict(X_test)\n",
    "\n",
    "# Print the classification report\n",
    "print(classification_report(y_test, y_pred_xgb))\n",
    "\n",
    "print(f1_score(y_test, y_pred_xgb))"
   ]
  },
  {
   "cell_type": "code",
   "execution_count": 74,
   "id": "17df4988",
   "metadata": {
    "execution": {
     "iopub.execute_input": "2024-11-08T12:09:26.631088Z",
     "iopub.status.busy": "2024-11-08T12:09:26.630679Z",
     "iopub.status.idle": "2024-11-08T12:09:27.683093Z",
     "shell.execute_reply": "2024-11-08T12:09:27.682140Z"
    },
    "papermill": {
     "duration": 1.102337,
     "end_time": "2024-11-08T12:09:27.685781",
     "exception": false,
     "start_time": "2024-11-08T12:09:26.583444",
     "status": "completed"
    },
    "tags": []
   },
   "outputs": [],
   "source": [
    "X2_train = X  \n",
    "y2_train = y \n",
    "\n",
    "xgb_model = xgb.XGBClassifier(\n",
    "objective='binary:logistic',\n",
    "    use_label_encoder=False,\n",
    "    eval_metric='logloss',\n",
    "    alpha=0.5,\n",
    "    colsample_bytree=0.6,\n",
    "    gamma=0.2,\n",
    "    reg_lambda=1,  \n",
    "    learning_rate=0.05,\n",
    "    max_depth=9,\n",
    "    min_child_weight=3,\n",
    "    n_estimators=200,\n",
    "    scale_pos_weight=5.678305301256121,\n",
    "    subsample=0.8,\n",
    "    random_state=42  \n",
    ")\n",
    "\n",
    "xgb_model.fit(X2_train, y2_train)\n",
    "\n",
    "y_pred_test_4 =  pd.Series(xgb_model.predict(test))"
   ]
  },
  {
   "cell_type": "code",
   "execution_count": 75,
   "id": "a3e76e9f",
   "metadata": {
    "execution": {
     "iopub.execute_input": "2024-11-08T12:09:27.783158Z",
     "iopub.status.busy": "2024-11-08T12:09:27.782734Z",
     "iopub.status.idle": "2024-11-08T12:09:27.801309Z",
     "shell.execute_reply": "2024-11-08T12:09:27.800289Z"
    },
    "papermill": {
     "duration": 0.069693,
     "end_time": "2024-11-08T12:09:27.803689",
     "exception": false,
     "start_time": "2024-11-08T12:09:27.733996",
     "status": "completed"
    },
    "tags": []
   },
   "outputs": [
    {
     "data": {
      "text/html": [
       "<div>\n",
       "<style scoped>\n",
       "    .dataframe tbody tr th:only-of-type {\n",
       "        vertical-align: middle;\n",
       "    }\n",
       "\n",
       "    .dataframe tbody tr th {\n",
       "        vertical-align: top;\n",
       "    }\n",
       "\n",
       "    .dataframe thead th {\n",
       "        text-align: right;\n",
       "    }\n",
       "</style>\n",
       "<table border=\"1\" class=\"dataframe\">\n",
       "  <thead>\n",
       "    <tr style=\"text-align: right;\">\n",
       "      <th></th>\n",
       "      <th>Gain</th>\n",
       "    </tr>\n",
       "  </thead>\n",
       "  <tbody>\n",
       "    <tr>\n",
       "      <th>duration</th>\n",
       "      <td>0.357258</td>\n",
       "    </tr>\n",
       "    <tr>\n",
       "      <th>poutcome</th>\n",
       "      <td>0.123759</td>\n",
       "    </tr>\n",
       "    <tr>\n",
       "      <th>balance</th>\n",
       "      <td>0.091093</td>\n",
       "    </tr>\n",
       "    <tr>\n",
       "      <th>age</th>\n",
       "      <td>0.084253</td>\n",
       "    </tr>\n",
       "    <tr>\n",
       "      <th>pdays</th>\n",
       "      <td>0.083076</td>\n",
       "    </tr>\n",
       "    <tr>\n",
       "      <th>last contact date_day</th>\n",
       "      <td>0.082750</td>\n",
       "    </tr>\n",
       "    <tr>\n",
       "      <th>last contact date_month</th>\n",
       "      <td>0.077075</td>\n",
       "    </tr>\n",
       "    <tr>\n",
       "      <th>previous</th>\n",
       "      <td>0.068668</td>\n",
       "    </tr>\n",
       "    <tr>\n",
       "      <th>campaign</th>\n",
       "      <td>0.032067</td>\n",
       "    </tr>\n",
       "  </tbody>\n",
       "</table>\n",
       "</div>"
      ],
      "text/plain": [
       "                             Gain\n",
       "duration                 0.357258\n",
       "poutcome                 0.123759\n",
       "balance                  0.091093\n",
       "age                      0.084253\n",
       "pdays                    0.083076\n",
       "last contact date_day    0.082750\n",
       "last contact date_month  0.077075\n",
       "previous                 0.068668\n",
       "campaign                 0.032067"
      ]
     },
     "execution_count": 75,
     "metadata": {},
     "output_type": "execute_result"
    }
   ],
   "source": [
    "gain_df = pd.DataFrame({'Gain': forest2.feature_importances_}, index=X_train.columns).sort_values('Gain', ascending = False)\n",
    "gain_df"
   ]
  },
  {
   "cell_type": "markdown",
   "id": "5fde1f99",
   "metadata": {
    "papermill": {
     "duration": 0.045767,
     "end_time": "2024-11-08T12:09:27.895835",
     "exception": false,
     "start_time": "2024-11-08T12:09:27.850068",
     "status": "completed"
    },
    "tags": []
   },
   "source": [
    "## **7. Submission**"
   ]
  },
  {
   "cell_type": "code",
   "execution_count": 76,
   "id": "32b290a6",
   "metadata": {
    "execution": {
     "iopub.execute_input": "2024-11-08T12:09:27.989827Z",
     "iopub.status.busy": "2024-11-08T12:09:27.989271Z",
     "iopub.status.idle": "2024-11-08T12:09:28.005420Z",
     "shell.execute_reply": "2024-11-08T12:09:28.004344Z"
    },
    "papermill": {
     "duration": 0.06598,
     "end_time": "2024-11-08T12:09:28.007813",
     "exception": false,
     "start_time": "2024-11-08T12:09:27.941833",
     "status": "completed"
    },
    "tags": []
   },
   "outputs": [
    {
     "data": {
      "text/html": [
       "<div>\n",
       "<style scoped>\n",
       "    .dataframe tbody tr th:only-of-type {\n",
       "        vertical-align: middle;\n",
       "    }\n",
       "\n",
       "    .dataframe tbody tr th {\n",
       "        vertical-align: top;\n",
       "    }\n",
       "\n",
       "    .dataframe thead th {\n",
       "        text-align: right;\n",
       "    }\n",
       "</style>\n",
       "<table border=\"1\" class=\"dataframe\">\n",
       "  <thead>\n",
       "    <tr style=\"text-align: right;\">\n",
       "      <th></th>\n",
       "      <th>id</th>\n",
       "      <th>target</th>\n",
       "    </tr>\n",
       "  </thead>\n",
       "  <tbody>\n",
       "    <tr>\n",
       "      <th>0</th>\n",
       "      <td>0</td>\n",
       "      <td>no</td>\n",
       "    </tr>\n",
       "    <tr>\n",
       "      <th>1</th>\n",
       "      <td>1</td>\n",
       "      <td>no</td>\n",
       "    </tr>\n",
       "    <tr>\n",
       "      <th>2</th>\n",
       "      <td>2</td>\n",
       "      <td>no</td>\n",
       "    </tr>\n",
       "    <tr>\n",
       "      <th>3</th>\n",
       "      <td>3</td>\n",
       "      <td>yes</td>\n",
       "    </tr>\n",
       "    <tr>\n",
       "      <th>4</th>\n",
       "      <td>4</td>\n",
       "      <td>yes</td>\n",
       "    </tr>\n",
       "  </tbody>\n",
       "</table>\n",
       "</div>"
      ],
      "text/plain": [
       "   id target\n",
       "0   0     no\n",
       "1   1     no\n",
       "2   2     no\n",
       "3   3    yes\n",
       "4   4    yes"
      ]
     },
     "execution_count": 76,
     "metadata": {},
     "output_type": "execute_result"
    }
   ],
   "source": [
    "samp = pd.read_csv(\"/kaggle/input/predict-the-success-of-bank-telemarketing/sample_submission.csv\")\n",
    "samp.head()"
   ]
  },
  {
   "cell_type": "code",
   "execution_count": 77,
   "id": "ab239d91",
   "metadata": {
    "execution": {
     "iopub.execute_input": "2024-11-08T12:09:28.103901Z",
     "iopub.status.busy": "2024-11-08T12:09:28.102960Z",
     "iopub.status.idle": "2024-11-08T12:09:28.110313Z",
     "shell.execute_reply": "2024-11-08T12:09:28.109281Z"
    },
    "papermill": {
     "duration": 0.058316,
     "end_time": "2024-11-08T12:09:28.112655",
     "exception": false,
     "start_time": "2024-11-08T12:09:28.054339",
     "status": "completed"
    },
    "tags": []
   },
   "outputs": [
    {
     "data": {
      "text/plain": [
       "Index(['id', 'target'], dtype='object')"
      ]
     },
     "execution_count": 77,
     "metadata": {},
     "output_type": "execute_result"
    }
   ],
   "source": [
    "samp.columns"
   ]
  },
  {
   "cell_type": "code",
   "execution_count": 78,
   "id": "83123083",
   "metadata": {
    "execution": {
     "iopub.execute_input": "2024-11-08T12:09:28.207571Z",
     "iopub.status.busy": "2024-11-08T12:09:28.207164Z",
     "iopub.status.idle": "2024-11-08T12:09:28.234258Z",
     "shell.execute_reply": "2024-11-08T12:09:28.233253Z"
    },
    "papermill": {
     "duration": 0.07775,
     "end_time": "2024-11-08T12:09:28.237030",
     "exception": false,
     "start_time": "2024-11-08T12:09:28.159280",
     "status": "completed"
    },
    "tags": []
   },
   "outputs": [],
   "source": [
    "index = samp['id']\n",
    "ans = pd.concat([index, y_pred_test_4],axis=1 )\n",
    "ans.rename(inplace=True, columns={0:'target'})\n",
    "# print(ans)\n",
    "ans['target'] = ans['target'].replace({0: 'no', 1: 'yes'})\n",
    "\n",
    "ans.to_csv('submission.csv', index=False)\n"
   ]
  }
 ],
 "metadata": {
  "kaggle": {
   "accelerator": "none",
   "dataSources": [
    {
     "databundleVersionId": 9578279,
     "sourceId": 85062,
     "sourceType": "competition"
    }
   ],
   "dockerImageVersionId": 30775,
   "isGpuEnabled": false,
   "isInternetEnabled": false,
   "language": "python",
   "sourceType": "notebook"
  },
  "kernelspec": {
   "display_name": "Python 3",
   "language": "python",
   "name": "python3"
  },
  "language_info": {
   "codemirror_mode": {
    "name": "ipython",
    "version": 3
   },
   "file_extension": ".py",
   "mimetype": "text/x-python",
   "name": "python",
   "nbconvert_exporter": "python",
   "pygments_lexer": "ipython3",
   "version": "3.10.14"
  },
  "papermill": {
   "default_parameters": {},
   "duration": 117.330938,
   "end_time": "2024-11-08T12:09:29.006066",
   "environment_variables": {},
   "exception": null,
   "input_path": "__notebook__.ipynb",
   "output_path": "__notebook__.ipynb",
   "parameters": {},
   "start_time": "2024-11-08T12:07:31.675128",
   "version": "2.6.0"
  }
 },
 "nbformat": 4,
 "nbformat_minor": 5
}
